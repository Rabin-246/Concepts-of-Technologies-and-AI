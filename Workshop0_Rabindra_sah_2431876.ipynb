{
 "cells": [
  {
   "cell_type": "markdown",
   "id": "5fa428f6",
   "metadata": {},
   "source": [
    "# To-do "
   ]
  },
  {
   "cell_type": "markdown",
   "id": "ec3c47af",
   "metadata": {},
   "source": [
    "# Task 1"
   ]
  },
  {
   "cell_type": "code",
   "execution_count": 2,
   "id": "6b81bb19",
   "metadata": {},
   "outputs": [
    {
     "name": "stdout",
     "output_type": "stream",
     "text": [
      "Cold temperatures: [8.2, 7.9, 9.0, 8.5, 7.7, 8.4, 9.5, 8.1, 7.6, 8.0, 7.8, 8.7, 9.2, 8.3, 8.9, 7.8]\n",
      "Mild temperatures: [14.1, 13.5, 13.0, 12.9, 13.3, 14.0, 13.4, 14.2, 12.8, 13.7, 13.6, 13.8, 13.9, 12.7, 13.1, 12.5]\n",
      "Comfortable temperatures: [17.4, 18.0, 17.8, 16.5, 17.2, 16.7, 18.3, 17.9, 17.0, 16.8, 17.5, 17.1, 18.1, 16.4, 18.2, 16.6]\n"
     ]
    }
   ],
   "source": [
    "def classify_temperatures(temperatures):\n",
    "    \"\"\"\n",
    "    Classify a list of temperatures into three categories: 'Cold', 'Mild', and 'Comfortable'.\n",
    "\n",
    "    - 'Cold': Temperatures below 10°C.\n",
    "    - 'Mild': Temperatures between 10°C (inclusive) and 15°C (exclusive).\n",
    "    - 'Comfortable': Temperatures between 15°C (inclusive) and 20°C (inclusive).\n",
    "\n",
    "    Parameters:\n",
    "    ----------\n",
    "    temperatures : list of float\n",
    "        A list of temperature readings in Celsius.\n",
    "\n",
    "    Returns:\n",
    "    -------\n",
    "    tuple of lists\n",
    "        A tuple containing three lists:\n",
    "        - The first list contains temperatures classified as 'Cold'.\n",
    "        - The second list contains temperatures classified as 'Mild'.\n",
    "        - The third list contains temperatures classified as 'Comfortable'.\n",
    "    \"\"\"\n",
    "    # Initializing lists for classifications\n",
    "    cold = []         # List for temperatures below 10°C\n",
    "    mild = []         # List for temperatures between 10°C and 15°C\n",
    "    comfortable = []  # List for temperatures between 15°C and 20°C\n",
    "\n",
    "    # Classifying the temperatures\n",
    "    for temp in temperatures:\n",
    "        if temp < 10:\n",
    "            cold.append(temp)\n",
    "        elif 10 <= temp < 15:\n",
    "            mild.append(temp)\n",
    "        elif 15 <= temp <= 20:\n",
    "            comfortable.append(temp)\n",
    "\n",
    "    return cold, mild, comfortable\n",
    "\n",
    "\n",
    "# Sample temperature data\n",
    "temperatures = [\n",
    "    8.2, 17.4, 14.1, 7.9, 18.0, 13.5, 9.0, 17.8, 13.0, 8.5,\n",
    "    16.5, 12.9, 7.7, 17.2, 13.3, 8.4, 16.7, 14.0, 9.5, 18.3,\n",
    "    13.4, 8.1, 17.9, 14.2, 7.6, 17.0, 12.8, 8.0, 16.8, 13.7,\n",
    "    7.8, 17.5, 13.6, 8.7, 17.1, 13.8, 9.2, 18.1, 13.9, 8.3,\n",
    "    16.4, 12.7, 8.9, 18.2, 13.1, 7.8, 16.6, 12.5\n",
    "]\n",
    "\n",
    "# Classifying the temperatures\n",
    "cold, mild, comfortable = classify_temperatures(temperatures)\n",
    "\n",
    "# Printing the classified lists\n",
    "print(\"Cold temperatures:\", cold)\n",
    "print(\"Mild temperatures:\", mild)\n",
    "print(\"Comfortable temperatures:\", comfortable)\n",
    "\n"
   ]
  },
  {
   "cell_type": "markdown",
   "id": "d6080df6",
   "metadata": {},
   "source": [
    "#  Task 2 :"
   ]
  },
  {
   "cell_type": "code",
   "execution_count": 3,
   "id": "202b8594",
   "metadata": {},
   "outputs": [
    {
     "name": "stdout",
     "output_type": "stream",
     "text": [
      "The number of cold days is: 16\n",
      "The number of mild days is: 16\n",
      "The number of comfortable days is: 16\n"
     ]
    }
   ],
   "source": [
    "def count_mild_days(mild_temperatures):\n",
    "    \"\"\"\n",
    "    Counts the number of days with mild temperatures.\n",
    "\n",
    "    Parameters:\n",
    "    ----------\n",
    "    mild_temperatures : list of float\n",
    "        A list of temperature readings classified as mild.\n",
    "\n",
    "    Returns:\n",
    "    -------\n",
    "    int\n",
    "        The number of times temperatures were classified as mild.\n",
    "    \"\"\"\n",
    "    return len(mild_temperatures)  # Return the length of the list as the count\n",
    "\n",
    "\n",
    "def classify_temperatures(temperatures):\n",
    "    \"\"\"\n",
    "    Classify a list of temperatures into three categories: 'Cold', 'Mild', and 'Comfortable'.\n",
    "\n",
    "    - 'Cold': Temperatures below 10°C.\n",
    "    - 'Mild': Temperatures between 10°C (inclusive) and 15°C (exclusive).\n",
    "    - 'Comfortable': Temperatures between 15°C (inclusive) and 20°C (inclusive).\n",
    "\n",
    "    Parameters:\n",
    "    ----------\n",
    "    temperatures : list of float\n",
    "        A list of temperature readings in Celsius.\n",
    "\n",
    "    Returns:\n",
    "    -------\n",
    "    tuple of lists\n",
    "        A tuple containing three lists:\n",
    "        - The first list contains temperatures classified as 'Cold'.\n",
    "        - The second list contains temperatures classified as 'Mild'.\n",
    "        - The third list contains temperatures classified as 'Comfortable'.\n",
    "    \"\"\"\n",
    "    cold = []         # List for 'Cold' temperatures\n",
    "    mild = []         # List for 'Mild' temperatures\n",
    "    comfortable = []  # List for 'Comfortable' temperatures\n",
    "\n",
    "    # Classify each temperature in the list\n",
    "    for temp in temperatures:\n",
    "        if temp < 10:              # Temperatures below 10°C are 'Cold'\n",
    "            cold.append(temp)\n",
    "        elif 10 <= temp < 15:      # Temperatures between 10°C and 15°C are 'Mild'\n",
    "            mild.append(temp)\n",
    "        elif 15 <= temp <= 20:     # Temperatures between 15°C and 20°C are 'Comfortable'\n",
    "            comfortable.append(temp)\n",
    "\n",
    "    return cold, mild, comfortable  # Return the classified lists as a tuple\n",
    "\n",
    "\n",
    "# Sample temperature data\n",
    "temperatures = [\n",
    "    8.2, 17.4, 14.1, 7.9, 18.0, 13.5, 9.0, 17.8, 13.0, 8.5,\n",
    "    16.5, 12.9, 7.7, 17.2, 13.3, 8.4, 16.7, 14.0, 9.5, 18.3,\n",
    "    13.4, 8.1, 17.9, 14.2, 7.6, 17.0, 12.8, 8.0, 16.8, 13.7,\n",
    "    7.8, 17.5, 13.6, 8.7, 17.1, 13.8, 9.2, 18.1, 13.9, 8.3,\n",
    "    16.4, 12.7, 8.9, 18.2, 13.1, 7.8, 16.6, 12.5\n",
    "]\n",
    "\n",
    "# Classify the temperatures into 'Cold', 'Mild', and 'Comfortable' categories\n",
    "cold, mild, comfortable = classify_temperatures(temperatures)\n",
    "\n",
    "# Calculate and print the number of days in each category\n",
    "print(\"The number of cold days is:\", count_mild_days(cold))          # Count of cold days\n",
    "print(\"The number of mild days is:\", count_mild_days(mild))          # Count of mild days\n",
    "print(\"The number of comfortable days is:\", count_mild_days(comfortable))  # Count of comfortable days\n"
   ]
  },
  {
   "cell_type": "markdown",
   "id": "ad060368",
   "metadata": {},
   "source": [
    "# ## Task 3 :\n"
   ]
  },
  {
   "cell_type": "code",
   "execution_count": 4,
   "id": "3ae8f57c",
   "metadata": {},
   "outputs": [
    {
     "name": "stdout",
     "output_type": "stream",
     "text": [
      "[105.8, 188.6, 158.9, 103.1, 194.0, 153.5, 113.0, 192.2, 149.0, 108.5, 180.5, 148.1, 101.3, 186.8, 151.7, 107.6, 182.3, 158.0, 117.5, 196.7, 152.6, 104.9, 193.1, 159.8, 100.4, 185.0, 147.2, 104.0, 183.2, 155.3, 102.2, 189.5, 154.4, 110.3, 185.9, 156.2, 114.8, 194.9, 157.1, 106.7, 179.6, 146.3, 112.1, 195.8, 149.9, 102.2, 181.4, 144.5]\n"
     ]
    }
   ],
   "source": [
    "new_list=[]\n",
    "for i in temperatures:\n",
    "    new_list.append((round((i*9),2)+32))\n",
    "print(new_list)"
   ]
  },
  {
   "cell_type": "markdown",
   "id": "eb51a412",
   "metadata": {},
   "source": [
    "# Task 4:"
   ]
  },
  {
   "cell_type": "code",
   "execution_count": 5,
   "id": "1b3e489a",
   "metadata": {},
   "outputs": [
    {
     "name": "stdout",
     "output_type": "stream",
     "text": [
      "Night temperatures: [7.9, 7.7, 7.6, 7.8, 7.8]\n",
      "Evening temperatures: [8.2, 14.1, 13.5, 9.0, 13.0, 8.5, 12.9, 13.3, 8.4, 14.0, 9.5, 13.4, 8.1, 14.2, 12.8, 8.0, 13.7, 13.6, 8.7, 13.8, 9.2, 13.9, 8.3, 12.7, 8.9, 13.1, 12.5]\n",
      "Day temperatures: [17.4, 18.0, 17.8, 16.5, 17.2, 16.7, 18.3, 17.9, 17.0, 16.8, 17.5, 17.1, 18.1, 16.4, 18.2, 16.6]\n",
      "The average daytime temperature is: 17.34\n"
     ]
    },
    {
     "data": {
      "image/png": "[encoded data removed]",
      "text/plain": [
       "<Figure size 1000x600 with 1 Axes>"
      ]
     },
     "metadata": {},
     "output_type": "display_data"
    }
   ],
   "source": [
    "def classify_days(temperatures):\n",
    "    \"\"\"\n",
    "    Classify temperatures into three categories: 'Night', 'Evening', and 'Day'.\n",
    "\n",
    "    Categories:\n",
    "    - 'Night': Temperatures below 8°C.\n",
    "    - 'Evening': Temperatures between 8°C (inclusive) and 16°C (exclusive).\n",
    "    - 'Day': Temperatures between 16°C (inclusive) and 24°C (inclusive).\n",
    "\n",
    "    Parameters:\n",
    "    ----------\n",
    "    temperatures : list of float\n",
    "        A list of temperature readings in Celsius.\n",
    "\n",
    "    Returns:\n",
    "    -------\n",
    "    tuple of lists\n",
    "        A tuple containing three lists:\n",
    "        - The first list contains temperatures classified as 'Night'.\n",
    "        - The second list contains temperatures classified as 'Evening'.\n",
    "        - The third list contains temperatures classified as 'Day'.\n",
    "    \"\"\"\n",
    "    # Initializing empty lists for classifications\n",
    "    night = []     # For temperatures below 8°C\n",
    "    evening = []   # For temperatures between 8°C and 16°C\n",
    "    day = []       # For temperatures between 16°C and 24°C\n",
    "\n",
    "    # Classifying temperatures\n",
    "    for temp in temperatures:\n",
    "        if temp < 8:                # 'Night' temperatures\n",
    "            night.append(temp)\n",
    "        elif 8 <= temp < 16:        # 'Evening' temperatures\n",
    "            evening.append(temp)\n",
    "        elif 16 <= temp <= 24:      # 'Day' temperatures\n",
    "            day.append(temp)\n",
    "\n",
    "    return night, evening, day\n",
    "\n",
    "\n",
    "# Sample temperature data\n",
    "temperatures = [\n",
    "    8.2, 17.4, 14.1, 7.9, 18.0, 13.5, 9.0, 17.8, 13.0, 8.5,\n",
    "    16.5, 12.9, 7.7, 17.2, 13.3, 8.4, 16.7, 14.0, 9.5, 18.3,\n",
    "    13.4, 8.1, 17.9, 14.2, 7.6, 17.0, 12.8, 8.0, 16.8, 13.7,\n",
    "    7.8, 17.5, 13.6, 8.7, 17.1, 13.8, 9.2, 18.1, 13.9, 8.3,\n",
    "    16.4, 12.7, 8.9, 18.2, 13.1, 7.8, 16.6, 12.5\n",
    "]\n",
    "\n",
    "# Classifying the temperatures into 'Night', 'Evening', and 'Day'\n",
    "night, evening, day = classify_days(temperatures)\n",
    "\n",
    "# Printing the classified temperature lists\n",
    "print(\"Night temperatures:\", night)\n",
    "print(\"Evening temperatures:\", evening)\n",
    "print(\"Day temperatures:\", day)\n",
    "\n",
    "# Calculate and print the average daytime temperature\n",
    "if day:  # Avoid division by zero if the 'day' list is empty\n",
    "    avg_day_temp = round(sum(day) / len(day), 2)\n",
    "    print(\"The average daytime temperature is:\", avg_day_temp)\n",
    "else:\n",
    "    print(\"No daytime temperatures available to calculate the average.\")\n",
    "\n",
    "# Plotting the 'Day' temperatures\n",
    "import matplotlib.pyplot as plt\n",
    "\n",
    "# Create a line plot for daytime temperatures\n",
    "plt.figure(figsize=(10, 6))\n",
    "plt.plot(day, marker='o', linestyle='-', color='orange', label='Day Temperature')\n",
    "plt.title('Day-Time Temperature Trends')\n",
    "plt.xlabel('Time of Day (Index)')\n",
    "plt.ylabel('Temperature (°C)')\n",
    "plt.grid(True)\n",
    "plt.legend()\n",
    "plt.show()\n"
   ]
  },
  {
   "cell_type": "markdown",
   "id": "2fdb620d",
   "metadata": {},
   "source": [
    "# Recursion"
   ]
  },
  {
   "cell_type": "markdown",
   "id": "ee412101",
   "metadata": {},
   "source": [
    "# Task 1 : Sum of Nested Lists:"
   ]
  },
  {
   "cell_type": "code",
   "execution_count": 6,
   "id": "61b331b2",
   "metadata": {},
   "outputs": [
    {
     "name": "stdout",
     "output_type": "stream",
     "text": [
      "36\n"
     ]
    }
   ],
   "source": [
    "def sum_nested_list(nested_list):\n",
    "    \"\"\"\n",
    "    Recursively calculates the sum of all integers in a nested list.\n",
    "\n",
    "    This function handles a list that may contain integers as well as other nested lists.\n",
    "    It traverses the list recursively and adds up all the integers, regardless of how deeply\n",
    "    they are nested within sublists.\n",
    "\n",
    "    Args:\n",
    "    -----\n",
    "    nested_list (list): A list that may contain integers or other lists of integers.\n",
    "\n",
    "    Returns:\n",
    "    -------\n",
    "    int: The total sum of all integers found in the nested list, including those within sublists.\n",
    "\n",
    "    Example:\n",
    "    --------\n",
    "    >>> sum_nested_list([1, [2, [3, 4], 5], 6, [7, 8]])\n",
    "    36\n",
    "\n",
    "    >>> sum_nested_list([1, [2, 3], [4, [5]]])\n",
    "    15\n",
    "    \"\"\"\n",
    "    total = 0  # Initialize total to 0\n",
    "\n",
    "    # Iterate through each element in the nested list\n",
    "    for element in nested_list:\n",
    "        # If the element is a list, recursively sum its contents\n",
    "        if isinstance(element, list):\n",
    "            total += sum_nested_list(element)\n",
    "        else:\n",
    "            # If the element is an integer, add it to the total sum\n",
    "            total += element\n",
    "\n",
    "    return total  # Return the total sum of integers\n",
    "\n",
    "# Example usage\n",
    "print(sum_nested_list([1, [2, [3, 4], 5], 6, [7, 8]]))  # Output: 36\n"
   ]
  },
  {
   "cell_type": "markdown",
   "id": "6cec0d88",
   "metadata": {},
   "source": [
    "# Task 2 : Generate All Permutations of a String:"
   ]
  },
  {
   "cell_type": "code",
   "execution_count": 24,
   "id": "cb833a71",
   "metadata": {},
   "outputs": [
    {
     "name": "stdout",
     "output_type": "stream",
     "text": [
      "['abc', 'acb', 'bac', 'bca', 'cab', 'cba']\n",
      "['aab', 'aba', 'baa']\n"
     ]
    }
   ],
   "source": [
    "from itertools import permutations\n",
    "\n",
    "def generate_permutations(s):\n",
    "    \"\"\"\n",
    "    Generate all unique permutations of a given string.\n",
    "\n",
    "    This function generates all permutations of the input string, removes duplicates,\n",
    "    and returns a sorted list of the unique permutations.\n",
    "\n",
    "    Args:\n",
    "    -----\n",
    "    s (str): The input string to generate permutations for.\n",
    "\n",
    "    Returns:\n",
    "    -------\n",
    "    list: A sorted list of all unique permutations of the string.\n",
    "\n",
    "    Example:\n",
    "    --------\n",
    "    >>> generate_permutations(\"abc\")\n",
    "    ['abc', 'acb', 'bac', 'bca', 'cab', 'cba']\n",
    "\n",
    "    >>> generate_permutations(\"aab\")\n",
    "    ['aab', 'aba', 'baa']\n",
    "    \"\"\"\n",
    "    # Generate all permutations of the input string using itertools.permutations\n",
    "    # itertools.permutations generates all possible permutations, including duplicates.\n",
    "    unique_permutations = set(''.join(p) for p in permutations(s))  # Use set to remove duplicates\n",
    "\n",
    "    # Return a sorted list of unique permutations for consistent order\n",
    "    return sorted(unique_permutations)\n",
    "\n",
    "# Test with the string \"abc\"\n",
    "print(generate_permutations(\"abc\"))\n",
    "# Expected output: ['abc', 'acb', 'bac', 'bca', 'cab', 'cba']\n",
    "\n",
    "# Test with the string \"aab\"\n",
    "print(generate_permutations(\"aab\"))\n",
    "# Expected output: ['aab', 'aba', 'baa']\n"
   ]
  },
  {
   "cell_type": "markdown",
   "id": "97229449",
   "metadata": {},
   "source": [
    "# Task 3 : "
   ]
  },
  {
   "cell_type": "code",
   "execution_count": 11,
   "id": "01e019ac",
   "metadata": {},
   "outputs": [
    {
     "name": "stdout",
     "output_type": "stream",
     "text": [
      "Total size of the directory: 1450 KB\n"
     ]
    }
   ],
   "source": [
    "def calculate_directory_size(directory):\n",
    "    \"\"\"\n",
    "    Recursively calculates the total size of a directory, including all nested subdirectories.\n",
    "\n",
    "    This function accepts a directory structure in the form of a dictionary, where the keys are\n",
    "    the names of files or directories, and the values are either integers representing file sizes\n",
    "    in KB or other dictionaries representing subdirectories. The function calculates the total size\n",
    "    by summing the file sizes and recursively summing the sizes of any subdirectories.\n",
    "\n",
    "    Args:\n",
    "    -----\n",
    "    directory (dict): A dictionary where keys are file or directory names.\n",
    "                      Values are either integers (file sizes in KB) or nested dictionaries (subdirectories).\n",
    "\n",
    "    Returns:\n",
    "    -------\n",
    "    int: The total size of the directory in KB, including all nested subdirectories.\n",
    "\n",
    "    Example:\n",
    "    --------\n",
    "    >>> sample_directory = {\n",
    "    >>>     \"file1.txt\": 100,\n",
    "    >>>     \"file2.txt\": 200,\n",
    "    >>>     \"subdir1\": {\n",
    "    >>>         \"file3.txt\": 300,\n",
    "    >>>         \"file4.txt\": 150,\n",
    "    >>>         \"subdir2\": {\n",
    "    >>>             \"file5.txt\": 400,\n",
    "    >>>             \"file6.txt\": 250\n",
    "    >>>         }\n",
    "    >>>     },\n",
    "    >>>     \"file7.txt\": 50\n",
    "    >>> }\n",
    "    >>> calculate_directory_size(sample_directory)\n",
    "    1500\n",
    "    \"\"\"\n",
    "    total_size = 0  # Initialize total size to 0\n",
    "\n",
    "    # Iterate through each item in the directory\n",
    "    for key, value in directory.items():\n",
    "        if isinstance(value, dict):  # Check if the value is a subdirectory\n",
    "            total_size += calculate_directory_size(value)  # Recursively calculate size of the subdirectory\n",
    "        else:\n",
    "            total_size += value  # Add the file size directly if it's an integer\n",
    "\n",
    "    return total_size  # Return the total size of the directory\n",
    "\n",
    "\n",
    "# Test the function with a sample directory structure\n",
    "sample_directory = {\n",
    "    \"file1.txt\": 100,\n",
    "    \"file2.txt\": 200,\n",
    "    \"subdir1\": {\n",
    "        \"file3.txt\": 300,\n",
    "        \"file4.txt\": 150,\n",
    "        \"subdir2\": {\n",
    "            \"file5.txt\": 400,\n",
    "            \"file6.txt\": 250\n",
    "        }\n",
    "    },\n",
    "    \"file7.txt\": 50\n",
    "}\n",
    "\n",
    "# Test the function and print the result\n",
    "print(f\"Total size of the directory: {calculate_directory_size(sample_directory)} KB\")\n"
   ]
  },
  {
   "cell_type": "markdown",
   "id": "985ff064",
   "metadata": {},
   "source": [
    "#  Dynamic Programming : "
   ]
  },
  {
   "cell_type": "markdown",
   "id": "813c4acd",
   "metadata": {},
   "source": [
    "# Fibonacci series with Memoization (Top-Down Approach) :"
   ]
  },
  {
   "cell_type": "code",
   "execution_count": 12,
   "id": "a9247065",
   "metadata": {},
   "outputs": [
    {
     "name": "stdout",
     "output_type": "stream",
     "text": [
      "5\n",
      "55\n"
     ]
    }
   ],
   "source": [
    "def fibonacci_memo(n, memo={}):\n",
    "    \"\"\"\n",
    "    Computes the nth Fibonacci number using memoization to optimize the recursive solution.\n",
    "    This function stores previously computed Fibonacci numbers in a dictionary (memo),\n",
    "    reducing redundant calculations and improving performance.\n",
    "\n",
    "    Parameters:\n",
    "    n (int): The index in the Fibonacci sequence for which the value is to be computed.\n",
    "    memo (dict, optional): A dictionary used to store previously computed Fibonacci values.\n",
    "                           It is initialized as an empty dictionary by default.\n",
    "\n",
    "    Returns:\n",
    "    int: The nth Fibonacci number.\n",
    "\n",
    "    Example:\n",
    "    >>> fibonacci_memo(5)\n",
    "    5\n",
    "    >>> fibonacci_memo(10)\n",
    "    55\n",
    "\n",
    "    Time Complexity: O(n), as each Fibonacci number is computed only once.\n",
    "    Space Complexity: O(n), due to the memoization dictionary storing the results.\n",
    "    \"\"\"\n",
    "    # If the result is already calculated, return it from the memo dictionary\n",
    "    if n in memo:\n",
    "        return memo[n]\n",
    "\n",
    "    # Base case for Fibonacci sequence\n",
    "    if n <= 1:\n",
    "        return n\n",
    "\n",
    "    # Recursively calculate Fibonacci number and store it in memo dictionary\n",
    "    memo[n] = fibonacci_memo(n - 1, memo) + fibonacci_memo(n - 2, memo)\n",
    "\n",
    "    return memo[n]\n",
    "\n",
    "# Example usage\n",
    "print(fibonacci_memo(5))  # Output: 5\n",
    "print(fibonacci_memo(10))  # Output: 55\n"
   ]
  },
  {
   "cell_type": "markdown",
   "id": "b9477a8b",
   "metadata": {},
   "source": [
    "# # Fibonacci series with Tbulation{Bottom-UpApproach}."
   ]
  },
  {
   "cell_type": "code",
   "execution_count": 13,
   "id": "cefc01f9",
   "metadata": {},
   "outputs": [
    {
     "name": "stdout",
     "output_type": "stream",
     "text": [
      "5\n",
      "55\n"
     ]
    }
   ],
   "source": [
    "def fibonacci_tabulation(n):\n",
    "    \"\"\"\n",
    "    Computes the nth Fibonacci number using dynamic programming (tabulation).\n",
    "    This function builds up the solution iteratively, storing intermediate results\n",
    "    in a list (dp), thus eliminating redundant calculations.\n",
    "\n",
    "    Parameters:\n",
    "    n (int): The index in the Fibonacci sequence for which the value is to be computed.\n",
    "\n",
    "    Returns:\n",
    "    int: The nth Fibonacci number.\n",
    "\n",
    "    Example:\n",
    "    >>> fibonacci_tabulation(5)\n",
    "    5\n",
    "    >>> fibonacci_tabulation(10)\n",
    "    55\n",
    "\n",
    "    Time Complexity: O(n), as each Fibonacci number is calculated once.\n",
    "    Space Complexity: O(n), due to the list storing the Fibonacci numbers up to n.\n",
    "    \"\"\"\n",
    "    # Base case for Fibonacci sequence\n",
    "    if n <= 1:\n",
    "        return n\n",
    "\n",
    "    # Initialize a list to store Fibonacci numbers up to the nth\n",
    "    dp = [0] * (n + 1)\n",
    "    dp[1] = 1  # The first Fibonacci number is 1\n",
    "\n",
    "    # Iteratively calculate Fibonacci numbers from bottom up\n",
    "    for i in range(2, n + 1):\n",
    "        dp[i] = dp[i - 1] + dp[i - 2]\n",
    "\n",
    "    # Return the nth Fibonacci number\n",
    "    return dp[n]\n",
    "\n",
    "# Example usage\n",
    "print(fibonacci_tabulation(5))  # Output: 5\n",
    "print(fibonacci_tabulation(10))  # Output: 55\n"
   ]
  },
  {
   "cell_type": "markdown",
   "id": "3a332ad6",
   "metadata": {},
   "source": [
    "# Task 1 : Coin change problem :"
   ]
  },
  {
   "cell_type": "code",
   "execution_count": 14,
   "id": "46f6e5ec",
   "metadata": {},
   "outputs": [
    {
     "name": "stdout",
     "output_type": "stream",
     "text": [
      "3\n"
     ]
    }
   ],
   "source": [
    "def min_coins(coins, amount):\n",
    "    \"\"\"\n",
    "    Finds the minimum number of coins needed to make up a given amount using dynamic programming.\n",
    "\n",
    "    This function solves the coin change problem by determining the fewest number of coins\n",
    "    from a given set of coin denominations that sum up to a target amount. The solution uses\n",
    "    dynamic programming (tabulation) to iteratively build up the minimum number of coins required\n",
    "    for each amount.\n",
    "\n",
    "    Parameters:\n",
    "    coins (list of int): A list of coin denominations available for making change. Each coin denomination is a positive integer.\n",
    "    amount (int): The target amount for which we need to find the minimum number of coins. It must be a non-negative integer.\n",
    "\n",
    "    Returns:\n",
    "    int: The minimum number of coins required to make the given amount.\n",
    "         If it is not possible to make the amount with the given coins, returns -1.\n",
    "\n",
    "    Example:\n",
    "    >>> min_coins([1, 2, 5], 11)\n",
    "    3\n",
    "    >>> min_coins([2], 3)\n",
    "    -1\n",
    "    \"\"\"\n",
    "\n",
    "    # Initialize the dp array where dp[i] will store the minimum number of coins required for amount i\n",
    "    dp = [float('inf')] * (amount + 1)\n",
    "\n",
    "    # Base case: 0 coins are required to make amount 0\n",
    "    dp[0] = 0\n",
    "\n",
    "    # Loop through each coin denomination\n",
    "    for coin in coins:\n",
    "        # For each amount from coin to target amount, update the dp array\n",
    "        for i in range(coin, amount + 1):\n",
    "            # Update dp[i] to the minimum of its current value or dp[i - coin] + 1\n",
    "            dp[i] = min(dp[i], dp[i - coin] + 1)\n",
    "\n",
    "    # If dp[amount] is still infinity, it means the amount cannot be made with the given coins\n",
    "    return dp[amount] if dp[amount] != float('inf') else -1\n",
    "\n",
    "# Test case with coins = [1, 2, 5] and amount = 11\n",
    "print(min_coins([1, 2, 5], 11))  # Expected output: 3 (using coins [5, 5, 1])\n"
   ]
  },
  {
   "cell_type": "markdown",
   "id": "d5573ce2",
   "metadata": {},
   "source": [
    "# Task 2 : LongestCommonSubsequence(LCS):"
   ]
  },
  {
   "cell_type": "code",
   "execution_count": 15,
   "id": "5f5f0f65",
   "metadata": {},
   "outputs": [
    {
     "name": "stdout",
     "output_type": "stream",
     "text": [
      "The length of the LCS is: 3\n"
     ]
    }
   ],
   "source": [
    "def longest_common_subsequence(s1, s2):\n",
    "    \"\"\"\n",
    "    This function finds the length of the Longest Common Subsequence (LCS) between two strings using dynamic programming.\n",
    "\n",
    "    A Longest Common Subsequence is a sequence that appears in both strings in the same relative order, but not necessarily consecutively.\n",
    "\n",
    "    Parameters:\n",
    "    s1 (str): The first string.\n",
    "    s2 (str): The second string.\n",
    "\n",
    "    Returns:\n",
    "    int: The length of the LCS between the two strings.\n",
    "\n",
    "    Example:\n",
    "    >>> longest_common_subsequence(\"abcde\", \"ace\")\n",
    "    3  # The LCS is \"ace\"\n",
    "    \"\"\"\n",
    "\n",
    "    # Create a 2D list (table) to store lengths of LCS of substrings\n",
    "    dp = [[0] * (len(s2) + 1) for _ in range(len(s1) + 1)]\n",
    "\n",
    "    # Fill the dp table\n",
    "    for i in range(1, len(s1) + 1):\n",
    "        for j in range(1, len(s2) + 1):\n",
    "            # If characters match, the LCS length increases by 1\n",
    "            if s1[i - 1] == s2[j - 1]:\n",
    "                dp[i][j] = dp[i - 1][j - 1] + 1\n",
    "            else:\n",
    "                # If characters don't match, take the maximum LCS length from the previous steps\n",
    "                dp[i][j] = max(dp[i - 1][j], dp[i][j - 1])\n",
    "\n",
    "    # The length of LCS will be in the bottom-right cell of the dp table\n",
    "    return dp[len(s1)][len(s2)]\n",
    "\n",
    "# Example test case\n",
    "result = longest_common_subsequence(\"abcde\", \"ace\")\n",
    "print(f\"The length of the LCS is: {result}\")  # Expected output: 3\n"
   ]
  },
  {
   "cell_type": "markdown",
   "id": "8feb65cd",
   "metadata": {},
   "source": [
    "# Task 3- 0/1 Knapsack Problem:"
   ]
  },
  {
   "cell_type": "code",
   "execution_count": 16,
   "id": "886bc34f",
   "metadata": {},
   "outputs": [
    {
     "name": "stdout",
     "output_type": "stream",
     "text": [
      "Maximum value in knapsack with capacity 7: 9\n"
     ]
    }
   ],
   "source": [
    "def knapsack(weights, values, capacity):\n",
    "    \"\"\"\n",
    "    Solves the 0/1 Knapsack problem using dynamic programming to maximize the value\n",
    "    that can be carried within the given weight capacity.\n",
    "\n",
    "    Args:\n",
    "    weights (list of int): The list of item weights.\n",
    "    values (list of int): The list of item values.\n",
    "    capacity (int): The maximum weight capacity of the knapsack.\n",
    "\n",
    "    Returns:\n",
    "    int: The maximum value that can be carried within the given weight capacity.\n",
    "         Returns -1 if it's not possible to carry any items.\n",
    "\n",
    "    Example:\n",
    "    >>> knapsack([1, 3, 4, 5], [1, 4, 5, 7], 7)\n",
    "    9\n",
    "    \"\"\"\n",
    "\n",
    "    n = len(weights)  # Number of items\n",
    "\n",
    "    # Initialize a DP table with 0s. dp[i][w] will store the maximum value\n",
    "    # that can be achieved with the first i items and a weight limit of w.\n",
    "    dp = [[0] * (capacity + 1) for _ in range(n + 1)]\n",
    "\n",
    "    # Fill the DP table using the bottom-up approach\n",
    "    for i in range(1, n + 1):  # For each item\n",
    "        for w in range(1, capacity + 1):  # For each weight capacity\n",
    "            # If the item can be included in the knapsack (i.e., weight <= capacity)\n",
    "            if weights[i - 1] <= w:\n",
    "                # Max value: either exclude the item or include it\n",
    "                dp[i][w] = max(dp[i - 1][w], values[i - 1] + dp[i - 1][w - weights[i - 1]])\n",
    "            else:\n",
    "                # If the item cannot be included, carry over the previous value\n",
    "                dp[i][w] = dp[i - 1][w]\n",
    "\n",
    "    # The last cell contains the maximum value for the given weight capacity\n",
    "    return dp[n][capacity]\n",
    "\n",
    "# Test the function with sample data\n",
    "weights = [1, 3, 4, 5]\n",
    "values = [1, 4, 5, 7]\n",
    "capacity = 7\n",
    "\n",
    "# Calling the function and printing the result\n",
    "result = knapsack(weights, values, capacity)\n",
    "print(f\"Maximum value in knapsack with capacity {capacity}: {result}\")  # Expected output: 9\n"
   ]
  },
  {
   "cell_type": "code",
   "execution_count": null,
   "id": "057a05f6",
   "metadata": {},
   "outputs": [],
   "source": []
  }
 ],
 "metadata": {
  "kernelspec": {
   "display_name": "Python 3 (ipykernel)",
   "language": "python",
   "name": "python3"
  },
  "language_info": {
   "codemirror_mode": {
    "name": "ipython",
    "version": 3
   },
   "file_extension": ".py",
   "mimetype": "text/x-python",
   "name": "python",
   "nbconvert_exporter": "python",
   "pygments_lexer": "ipython3",
   "version": "3.9.13"
  }
 },
 "nbformat": 4,
 "nbformat_minor": 5
}
