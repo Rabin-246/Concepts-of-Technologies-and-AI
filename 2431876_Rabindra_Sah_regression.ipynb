{
  "cells": [
    {
      "cell_type": "markdown",
      "metadata": {
        "id": "view-in-github",
        "colab_type": "text"
      },
      "source": [
        "<a href=\"https://colab.research.google.com/github/Rabin-246/Concepts-of-Technologies-and-AI/blob/main/2431876_Rabindra_Sah_regression.ipynb\" target=\"_parent\"><img src=\"https://colab.research.google.com/assets/colab-badge.svg\" alt=\"Open In Colab\"/></a>"
      ]
    },
    {
      "cell_type": "markdown",
      "id": "24aca2c2",
      "metadata": {
        "id": "24aca2c2"
      },
      "source": [
        "# Data Visualization & Exploratary Data Analysis"
      ]
    },
    {
      "source": [],
      "cell_type": "code",
      "metadata": {
        "id": "cgmu8UFn07Zi"
      },
      "id": "cgmu8UFn07Zi",
      "execution_count": null,
      "outputs": []
    },
    {
      "cell_type": "code",
      "source": [
        "from google.colab import drive\n",
        "drive.mount('/content/drive')"
      ],
      "metadata": {
        "colab": {
          "base_uri": "https://localhost:8080/"
        },
        "id": "WZQtBfm099o1",
        "outputId": "81de8d6d-3e50-4036-ea1c-e1f4748b5230"
      },
      "id": "WZQtBfm099o1",
      "execution_count": 1,
      "outputs": [
        {
          "output_type": "stream",
          "name": "stdout",
          "text": [
            "Mounted at /content/drive\n"
          ]
        }
      ]
    },
    {
      "cell_type": "markdown",
      "source": [],
      "metadata": {
        "id": "2lWmtw-D0hd-"
      },
      "id": "2lWmtw-D0hd-"
    },
    {
      "cell_type": "code",
      "execution_count": 2,
      "id": "63310482",
      "metadata": {
        "colab": {
          "base_uri": "https://localhost:8080/"
        },
        "id": "63310482",
        "outputId": "ab2f0af4-ff8c-425c-ef9b-ae89195a01e7"
      },
      "outputs": [
        {
          "output_type": "stream",
          "name": "stdout",
          "text": [
            "<class 'pandas.core.frame.DataFrame'>\n",
            "RangeIndex: 1303 entries, 0 to 1302\n",
            "Data columns (total 12 columns):\n",
            " #   Column            Non-Null Count  Dtype  \n",
            "---  ------            --------------  -----  \n",
            " 0   Unnamed: 0        1303 non-null   int64  \n",
            " 1   Company           1303 non-null   object \n",
            " 2   TypeName          1303 non-null   object \n",
            " 3   Inches            1303 non-null   float64\n",
            " 4   ScreenResolution  1303 non-null   object \n",
            " 5   Cpu               1303 non-null   object \n",
            " 6   Ram               1303 non-null   object \n",
            " 7   Memory            1303 non-null   object \n",
            " 8   Gpu               1303 non-null   object \n",
            " 9   OpSys             1303 non-null   object \n",
            " 10  Weight            1303 non-null   object \n",
            " 11  Price             1303 non-null   float64\n",
            "dtypes: float64(2), int64(1), object(9)\n",
            "memory usage: 122.3+ KB\n"
          ]
        }
      ],
      "source": [
        "import pandas as pd\n",
        "import numpy as np\n",
        "import seaborn as sns\n",
        "import matplotlib.pyplot as plt\n",
        "from sklearn.model_selection import train_test_split, GridSearchCV\n",
        "from sklearn.preprocessing import OneHotEncoder, StandardScaler\n",
        "from sklearn.pipeline import Pipeline\n",
        "from sklearn.compose import ColumnTransformer\n",
        "from sklearn.linear_model import LinearRegression\n",
        "from sklearn.ensemble import RandomForestRegressor\n",
        "from sklearn.metrics import mean_absolute_error, mean_squared_error, r2_score\n",
        "\n",
        "df = pd.read_csv(\"/content/drive/MyDrive/Concepts of Technologies and AI/CourseWork/laptop_data.csv\")  # Load dataset\n",
        "df.info()"
      ]
    },
    {
      "cell_type": "code",
      "execution_count": 3,
      "id": "f6e41acd",
      "metadata": {
        "id": "f6e41acd",
        "outputId": "5cb5664c-d153-4a58-8607-96c2a7a1b686",
        "colab": {
          "base_uri": "https://localhost:8080/",
          "height": 300
        }
      },
      "outputs": [
        {
          "output_type": "execute_result",
          "data": {
            "text/plain": [
              "       Unnamed: 0       Inches          Price\n",
              "count  1303.00000  1303.000000    1303.000000\n",
              "mean    651.00000    15.017191   59870.042910\n",
              "std     376.28801     1.426304   37243.201786\n",
              "min       0.00000    10.100000    9270.720000\n",
              "25%     325.50000    14.000000   31914.720000\n",
              "50%     651.00000    15.600000   52054.560000\n",
              "75%     976.50000    15.600000   79274.246400\n",
              "max    1302.00000    18.400000  324954.720000"
            ],
            "text/html": [
              "\n",
              "  <div id=\"df-b9accec9-13e4-43f1-a18e-3c582d61a471\" class=\"colab-df-container\">\n",
              "    <div>\n",
              "<style scoped>\n",
              "    .dataframe tbody tr th:only-of-type {\n",
              "        vertical-align: middle;\n",
              "    }\n",
              "\n",
              "    .dataframe tbody tr th {\n",
              "        vertical-align: top;\n",
              "    }\n",
              "\n",
              "    .dataframe thead th {\n",
              "        text-align: right;\n",
              "    }\n",
              "</style>\n",
              "<table border=\"1\" class=\"dataframe\">\n",
              "  <thead>\n",
              "    <tr style=\"text-align: right;\">\n",
              "      <th></th>\n",
              "      <th>Unnamed: 0</th>\n",
              "      <th>Inches</th>\n",
              "      <th>Price</th>\n",
              "    </tr>\n",
              "  </thead>\n",
              "  <tbody>\n",
              "    <tr>\n",
              "      <th>count</th>\n",
              "      <td>1303.00000</td>\n",
              "      <td>1303.000000</td>\n",
              "      <td>1303.000000</td>\n",
              "    </tr>\n",
              "    <tr>\n",
              "      <th>mean</th>\n",
              "      <td>651.00000</td>\n",
              "      <td>15.017191</td>\n",
              "      <td>59870.042910</td>\n",
              "    </tr>\n",
              "    <tr>\n",
              "      <th>std</th>\n",
              "      <td>376.28801</td>\n",
              "      <td>1.426304</td>\n",
              "      <td>37243.201786</td>\n",
              "    </tr>\n",
              "    <tr>\n",
              "      <th>min</th>\n",
              "      <td>0.00000</td>\n",
              "      <td>10.100000</td>\n",
              "      <td>9270.720000</td>\n",
              "    </tr>\n",
              "    <tr>\n",
              "      <th>25%</th>\n",
              "      <td>325.50000</td>\n",
              "      <td>14.000000</td>\n",
              "      <td>31914.720000</td>\n",
              "    </tr>\n",
              "    <tr>\n",
              "      <th>50%</th>\n",
              "      <td>651.00000</td>\n",
              "      <td>15.600000</td>\n",
              "      <td>52054.560000</td>\n",
              "    </tr>\n",
              "    <tr>\n",
              "      <th>75%</th>\n",
              "      <td>976.50000</td>\n",
              "      <td>15.600000</td>\n",
              "      <td>79274.246400</td>\n",
              "    </tr>\n",
              "    <tr>\n",
              "      <th>max</th>\n",
              "      <td>1302.00000</td>\n",
              "      <td>18.400000</td>\n",
              "      <td>324954.720000</td>\n",
              "    </tr>\n",
              "  </tbody>\n",
              "</table>\n",
              "</div>\n",
              "    <div class=\"colab-df-buttons\">\n",
              "\n",
              "  <div class=\"colab-df-container\">\n",
              "    <button class=\"colab-df-convert\" onclick=\"convertToInteractive('df-b9accec9-13e4-43f1-a18e-3c582d61a471')\"\n",
              "            title=\"Convert this dataframe to an interactive table.\"\n",
              "            style=\"display:none;\">\n",
              "\n",
              "  <svg xmlns=\"http://www.w3.org/2000/svg\" height=\"24px\" viewBox=\"0 -960 960 960\">\n",
              "    <path d=\"M120-120v-720h720v720H120Zm60-500h600v-160H180v160Zm220 220h160v-160H400v160Zm0 220h160v-160H400v160ZM180-400h160v-160H180v160Zm440 0h160v-160H620v160ZM180-180h160v-160H180v160Zm440 0h160v-160H620v160Z\"/>\n",
              "  </svg>\n",
              "    </button>\n",
              "\n",
              "  <style>\n",
              "    .colab-df-container {\n",
              "      display:flex;\n",
              "      gap: 12px;\n",
              "    }\n",
              "\n",
              "    .colab-df-convert {\n",
              "      background-color: #E8F0FE;\n",
              "      border: none;\n",
              "      border-radius: 50%;\n",
              "      cursor: pointer;\n",
              "      display: none;\n",
              "      fill: #1967D2;\n",
              "      height: 32px;\n",
              "      padding: 0 0 0 0;\n",
              "      width: 32px;\n",
              "    }\n",
              "\n",
              "    .colab-df-convert:hover {\n",
              "      background-color: #E2EBFA;\n",
              "      box-shadow: 0px 1px 2px rgba(60, 64, 67, 0.3), 0px 1px 3px 1px rgba(60, 64, 67, 0.15);\n",
              "      fill: #174EA6;\n",
              "    }\n",
              "\n",
              "    .colab-df-buttons div {\n",
              "      margin-bottom: 4px;\n",
              "    }\n",
              "\n",
              "    [theme=dark] .colab-df-convert {\n",
              "      background-color: #3B4455;\n",
              "      fill: #D2E3FC;\n",
              "    }\n",
              "\n",
              "    [theme=dark] .colab-df-convert:hover {\n",
              "      background-color: #434B5C;\n",
              "      box-shadow: 0px 1px 3px 1px rgba(0, 0, 0, 0.15);\n",
              "      filter: drop-shadow(0px 1px 2px rgba(0, 0, 0, 0.3));\n",
              "      fill: #FFFFFF;\n",
              "    }\n",
              "  </style>\n",
              "\n",
              "    <script>\n",
              "      const buttonEl =\n",
              "        document.querySelector('#df-b9accec9-13e4-43f1-a18e-3c582d61a471 button.colab-df-convert');\n",
              "      buttonEl.style.display =\n",
              "        google.colab.kernel.accessAllowed ? 'block' : 'none';\n",
              "\n",
              "      async function convertToInteractive(key) {\n",
              "        const element = document.querySelector('#df-b9accec9-13e4-43f1-a18e-3c582d61a471');\n",
              "        const dataTable =\n",
              "          await google.colab.kernel.invokeFunction('convertToInteractive',\n",
              "                                                    [key], {});\n",
              "        if (!dataTable) return;\n",
              "\n",
              "        const docLinkHtml = 'Like what you see? Visit the ' +\n",
              "          '<a target=\"_blank\" href=https://colab.research.google.com/notebooks/data_table.ipynb>data table notebook</a>'\n",
              "          + ' to learn more about interactive tables.';\n",
              "        element.innerHTML = '';\n",
              "        dataTable['output_type'] = 'display_data';\n",
              "        await google.colab.output.renderOutput(dataTable, element);\n",
              "        const docLink = document.createElement('div');\n",
              "        docLink.innerHTML = docLinkHtml;\n",
              "        element.appendChild(docLink);\n",
              "      }\n",
              "    </script>\n",
              "  </div>\n",
              "\n",
              "\n",
              "<div id=\"df-297ad9c6-5b83-4e46-a7f2-48c8304e2a2d\">\n",
              "  <button class=\"colab-df-quickchart\" onclick=\"quickchart('df-297ad9c6-5b83-4e46-a7f2-48c8304e2a2d')\"\n",
              "            title=\"Suggest charts\"\n",
              "            style=\"display:none;\">\n",
              "\n",
              "<svg xmlns=\"http://www.w3.org/2000/svg\" height=\"24px\"viewBox=\"0 0 24 24\"\n",
              "     width=\"24px\">\n",
              "    <g>\n",
              "        <path d=\"M19 3H5c-1.1 0-2 .9-2 2v14c0 1.1.9 2 2 2h14c1.1 0 2-.9 2-2V5c0-1.1-.9-2-2-2zM9 17H7v-7h2v7zm4 0h-2V7h2v10zm4 0h-2v-4h2v4z\"/>\n",
              "    </g>\n",
              "</svg>\n",
              "  </button>\n",
              "\n",
              "<style>\n",
              "  .colab-df-quickchart {\n",
              "      --bg-color: #E8F0FE;\n",
              "      --fill-color: #1967D2;\n",
              "      --hover-bg-color: #E2EBFA;\n",
              "      --hover-fill-color: #174EA6;\n",
              "      --disabled-fill-color: #AAA;\n",
              "      --disabled-bg-color: #DDD;\n",
              "  }\n",
              "\n",
              "  [theme=dark] .colab-df-quickchart {\n",
              "      --bg-color: #3B4455;\n",
              "      --fill-color: #D2E3FC;\n",
              "      --hover-bg-color: #434B5C;\n",
              "      --hover-fill-color: #FFFFFF;\n",
              "      --disabled-bg-color: #3B4455;\n",
              "      --disabled-fill-color: #666;\n",
              "  }\n",
              "\n",
              "  .colab-df-quickchart {\n",
              "    background-color: var(--bg-color);\n",
              "    border: none;\n",
              "    border-radius: 50%;\n",
              "    cursor: pointer;\n",
              "    display: none;\n",
              "    fill: var(--fill-color);\n",
              "    height: 32px;\n",
              "    padding: 0;\n",
              "    width: 32px;\n",
              "  }\n",
              "\n",
              "  .colab-df-quickchart:hover {\n",
              "    background-color: var(--hover-bg-color);\n",
              "    box-shadow: 0 1px 2px rgba(60, 64, 67, 0.3), 0 1px 3px 1px rgba(60, 64, 67, 0.15);\n",
              "    fill: var(--button-hover-fill-color);\n",
              "  }\n",
              "\n",
              "  .colab-df-quickchart-complete:disabled,\n",
              "  .colab-df-quickchart-complete:disabled:hover {\n",
              "    background-color: var(--disabled-bg-color);\n",
              "    fill: var(--disabled-fill-color);\n",
              "    box-shadow: none;\n",
              "  }\n",
              "\n",
              "  .colab-df-spinner {\n",
              "    border: 2px solid var(--fill-color);\n",
              "    border-color: transparent;\n",
              "    border-bottom-color: var(--fill-color);\n",
              "    animation:\n",
              "      spin 1s steps(1) infinite;\n",
              "  }\n",
              "\n",
              "  @keyframes spin {\n",
              "    0% {\n",
              "      border-color: transparent;\n",
              "      border-bottom-color: var(--fill-color);\n",
              "      border-left-color: var(--fill-color);\n",
              "    }\n",
              "    20% {\n",
              "      border-color: transparent;\n",
              "      border-left-color: var(--fill-color);\n",
              "      border-top-color: var(--fill-color);\n",
              "    }\n",
              "    30% {\n",
              "      border-color: transparent;\n",
              "      border-left-color: var(--fill-color);\n",
              "      border-top-color: var(--fill-color);\n",
              "      border-right-color: var(--fill-color);\n",
              "    }\n",
              "    40% {\n",
              "      border-color: transparent;\n",
              "      border-right-color: var(--fill-color);\n",
              "      border-top-color: var(--fill-color);\n",
              "    }\n",
              "    60% {\n",
              "      border-color: transparent;\n",
              "      border-right-color: var(--fill-color);\n",
              "    }\n",
              "    80% {\n",
              "      border-color: transparent;\n",
              "      border-right-color: var(--fill-color);\n",
              "      border-bottom-color: var(--fill-color);\n",
              "    }\n",
              "    90% {\n",
              "      border-color: transparent;\n",
              "      border-bottom-color: var(--fill-color);\n",
              "    }\n",
              "  }\n",
              "</style>\n",
              "\n",
              "  <script>\n",
              "    async function quickchart(key) {\n",
              "      const quickchartButtonEl =\n",
              "        document.querySelector('#' + key + ' button');\n",
              "      quickchartButtonEl.disabled = true;  // To prevent multiple clicks.\n",
              "      quickchartButtonEl.classList.add('colab-df-spinner');\n",
              "      try {\n",
              "        const charts = await google.colab.kernel.invokeFunction(\n",
              "            'suggestCharts', [key], {});\n",
              "      } catch (error) {\n",
              "        console.error('Error during call to suggestCharts:', error);\n",
              "      }\n",
              "      quickchartButtonEl.classList.remove('colab-df-spinner');\n",
              "      quickchartButtonEl.classList.add('colab-df-quickchart-complete');\n",
              "    }\n",
              "    (() => {\n",
              "      let quickchartButtonEl =\n",
              "        document.querySelector('#df-297ad9c6-5b83-4e46-a7f2-48c8304e2a2d button');\n",
              "      quickchartButtonEl.style.display =\n",
              "        google.colab.kernel.accessAllowed ? 'block' : 'none';\n",
              "    })();\n",
              "  </script>\n",
              "</div>\n",
              "\n",
              "    </div>\n",
              "  </div>\n"
            ],
            "application/vnd.google.colaboratory.intrinsic+json": {
              "type": "dataframe",
              "summary": "{\n  \"name\": \"df\",\n  \"rows\": 8,\n  \"fields\": [\n    {\n      \"column\": \"Unnamed: 0\",\n      \"properties\": {\n        \"dtype\": \"number\",\n        \"std\": 469.3886444804117,\n        \"min\": 0.0,\n        \"max\": 1303.0,\n        \"num_unique_values\": 7,\n        \"samples\": [\n          1303.0,\n          651.0,\n          976.5\n        ],\n        \"semantic_type\": \"\",\n        \"description\": \"\"\n      }\n    },\n    {\n      \"column\": \"Inches\",\n      \"properties\": {\n        \"dtype\": \"number\",\n        \"std\": 456.1568872675214,\n        \"min\": 1.4263040545691665,\n        \"max\": 1303.0,\n        \"num_unique_values\": 7,\n        \"samples\": [\n          1303.0,\n          15.017191097467379,\n          15.6\n        ],\n        \"semantic_type\": \"\",\n        \"description\": \"\"\n      }\n    },\n    {\n      \"column\": \"Price\",\n      \"properties\": {\n        \"dtype\": \"number\",\n        \"std\": 104391.04151307257,\n        \"min\": 1303.0,\n        \"max\": 324954.72,\n        \"num_unique_values\": 8,\n        \"samples\": [\n          59870.042910207216,\n          52054.56,\n          1303.0\n        ],\n        \"semantic_type\": \"\",\n        \"description\": \"\"\n      }\n    }\n  ]\n}"
            }
          },
          "metadata": {},
          "execution_count": 3
        }
      ],
      "source": [
        "df.describe()"
      ]
    },
    {
      "cell_type": "code",
      "execution_count": 4,
      "id": "dcea07a8",
      "metadata": {
        "id": "dcea07a8",
        "outputId": "8845be7c-8338-4908-c4ba-ce58455c2e2e",
        "colab": {
          "base_uri": "https://localhost:8080/",
          "height": 310
        }
      },
      "outputs": [
        {
          "output_type": "execute_result",
          "data": {
            "text/plain": [
              "   Unnamed: 0 Company   TypeName  Inches                    ScreenResolution  \\\n",
              "0           0   Apple  Ultrabook    13.3  IPS Panel Retina Display 2560x1600   \n",
              "1           1   Apple  Ultrabook    13.3                            1440x900   \n",
              "2           2      HP   Notebook    15.6                   Full HD 1920x1080   \n",
              "3           3   Apple  Ultrabook    15.4  IPS Panel Retina Display 2880x1800   \n",
              "4           4   Apple  Ultrabook    13.3  IPS Panel Retina Display 2560x1600   \n",
              "\n",
              "                          Cpu   Ram               Memory  \\\n",
              "0        Intel Core i5 2.3GHz   8GB            128GB SSD   \n",
              "1        Intel Core i5 1.8GHz   8GB  128GB Flash Storage   \n",
              "2  Intel Core i5 7200U 2.5GHz   8GB            256GB SSD   \n",
              "3        Intel Core i7 2.7GHz  16GB            512GB SSD   \n",
              "4        Intel Core i5 3.1GHz   8GB            256GB SSD   \n",
              "\n",
              "                            Gpu  OpSys  Weight        Price  \n",
              "0  Intel Iris Plus Graphics 640  macOS  1.37kg   71378.6832  \n",
              "1        Intel HD Graphics 6000  macOS  1.34kg   47895.5232  \n",
              "2         Intel HD Graphics 620  No OS  1.86kg   30636.0000  \n",
              "3            AMD Radeon Pro 455  macOS  1.83kg  135195.3360  \n",
              "4  Intel Iris Plus Graphics 650  macOS  1.37kg   96095.8080  "
            ],
            "text/html": [
              "\n",
              "  <div id=\"df-4b742f3a-f574-4ed8-9f17-d8f65163a225\" class=\"colab-df-container\">\n",
              "    <div>\n",
              "<style scoped>\n",
              "    .dataframe tbody tr th:only-of-type {\n",
              "        vertical-align: middle;\n",
              "    }\n",
              "\n",
              "    .dataframe tbody tr th {\n",
              "        vertical-align: top;\n",
              "    }\n",
              "\n",
              "    .dataframe thead th {\n",
              "        text-align: right;\n",
              "    }\n",
              "</style>\n",
              "<table border=\"1\" class=\"dataframe\">\n",
              "  <thead>\n",
              "    <tr style=\"text-align: right;\">\n",
              "      <th></th>\n",
              "      <th>Unnamed: 0</th>\n",
              "      <th>Company</th>\n",
              "      <th>TypeName</th>\n",
              "      <th>Inches</th>\n",
              "      <th>ScreenResolution</th>\n",
              "      <th>Cpu</th>\n",
              "      <th>Ram</th>\n",
              "      <th>Memory</th>\n",
              "      <th>Gpu</th>\n",
              "      <th>OpSys</th>\n",
              "      <th>Weight</th>\n",
              "      <th>Price</th>\n",
              "    </tr>\n",
              "  </thead>\n",
              "  <tbody>\n",
              "    <tr>\n",
              "      <th>0</th>\n",
              "      <td>0</td>\n",
              "      <td>Apple</td>\n",
              "      <td>Ultrabook</td>\n",
              "      <td>13.3</td>\n",
              "      <td>IPS Panel Retina Display 2560x1600</td>\n",
              "      <td>Intel Core i5 2.3GHz</td>\n",
              "      <td>8GB</td>\n",
              "      <td>128GB SSD</td>\n",
              "      <td>Intel Iris Plus Graphics 640</td>\n",
              "      <td>macOS</td>\n",
              "      <td>1.37kg</td>\n",
              "      <td>71378.6832</td>\n",
              "    </tr>\n",
              "    <tr>\n",
              "      <th>1</th>\n",
              "      <td>1</td>\n",
              "      <td>Apple</td>\n",
              "      <td>Ultrabook</td>\n",
              "      <td>13.3</td>\n",
              "      <td>1440x900</td>\n",
              "      <td>Intel Core i5 1.8GHz</td>\n",
              "      <td>8GB</td>\n",
              "      <td>128GB Flash Storage</td>\n",
              "      <td>Intel HD Graphics 6000</td>\n",
              "      <td>macOS</td>\n",
              "      <td>1.34kg</td>\n",
              "      <td>47895.5232</td>\n",
              "    </tr>\n",
              "    <tr>\n",
              "      <th>2</th>\n",
              "      <td>2</td>\n",
              "      <td>HP</td>\n",
              "      <td>Notebook</td>\n",
              "      <td>15.6</td>\n",
              "      <td>Full HD 1920x1080</td>\n",
              "      <td>Intel Core i5 7200U 2.5GHz</td>\n",
              "      <td>8GB</td>\n",
              "      <td>256GB SSD</td>\n",
              "      <td>Intel HD Graphics 620</td>\n",
              "      <td>No OS</td>\n",
              "      <td>1.86kg</td>\n",
              "      <td>30636.0000</td>\n",
              "    </tr>\n",
              "    <tr>\n",
              "      <th>3</th>\n",
              "      <td>3</td>\n",
              "      <td>Apple</td>\n",
              "      <td>Ultrabook</td>\n",
              "      <td>15.4</td>\n",
              "      <td>IPS Panel Retina Display 2880x1800</td>\n",
              "      <td>Intel Core i7 2.7GHz</td>\n",
              "      <td>16GB</td>\n",
              "      <td>512GB SSD</td>\n",
              "      <td>AMD Radeon Pro 455</td>\n",
              "      <td>macOS</td>\n",
              "      <td>1.83kg</td>\n",
              "      <td>135195.3360</td>\n",
              "    </tr>\n",
              "    <tr>\n",
              "      <th>4</th>\n",
              "      <td>4</td>\n",
              "      <td>Apple</td>\n",
              "      <td>Ultrabook</td>\n",
              "      <td>13.3</td>\n",
              "      <td>IPS Panel Retina Display 2560x1600</td>\n",
              "      <td>Intel Core i5 3.1GHz</td>\n",
              "      <td>8GB</td>\n",
              "      <td>256GB SSD</td>\n",
              "      <td>Intel Iris Plus Graphics 650</td>\n",
              "      <td>macOS</td>\n",
              "      <td>1.37kg</td>\n",
              "      <td>96095.8080</td>\n",
              "    </tr>\n",
              "  </tbody>\n",
              "</table>\n",
              "</div>\n",
              "    <div class=\"colab-df-buttons\">\n",
              "\n",
              "  <div class=\"colab-df-container\">\n",
              "    <button class=\"colab-df-convert\" onclick=\"convertToInteractive('df-4b742f3a-f574-4ed8-9f17-d8f65163a225')\"\n",
              "            title=\"Convert this dataframe to an interactive table.\"\n",
              "            style=\"display:none;\">\n",
              "\n",
              "  <svg xmlns=\"http://www.w3.org/2000/svg\" height=\"24px\" viewBox=\"0 -960 960 960\">\n",
              "    <path d=\"M120-120v-720h720v720H120Zm60-500h600v-160H180v160Zm220 220h160v-160H400v160Zm0 220h160v-160H400v160ZM180-400h160v-160H180v160Zm440 0h160v-160H620v160ZM180-180h160v-160H180v160Zm440 0h160v-160H620v160Z\"/>\n",
              "  </svg>\n",
              "    </button>\n",
              "\n",
              "  <style>\n",
              "    .colab-df-container {\n",
              "      display:flex;\n",
              "      gap: 12px;\n",
              "    }\n",
              "\n",
              "    .colab-df-convert {\n",
              "      background-color: #E8F0FE;\n",
              "      border: none;\n",
              "      border-radius: 50%;\n",
              "      cursor: pointer;\n",
              "      display: none;\n",
              "      fill: #1967D2;\n",
              "      height: 32px;\n",
              "      padding: 0 0 0 0;\n",
              "      width: 32px;\n",
              "    }\n",
              "\n",
              "    .colab-df-convert:hover {\n",
              "      background-color: #E2EBFA;\n",
              "      box-shadow: 0px 1px 2px rgba(60, 64, 67, 0.3), 0px 1px 3px 1px rgba(60, 64, 67, 0.15);\n",
              "      fill: #174EA6;\n",
              "    }\n",
              "\n",
              "    .colab-df-buttons div {\n",
              "      margin-bottom: 4px;\n",
              "    }\n",
              "\n",
              "    [theme=dark] .colab-df-convert {\n",
              "      background-color: #3B4455;\n",
              "      fill: #D2E3FC;\n",
              "    }\n",
              "\n",
              "    [theme=dark] .colab-df-convert:hover {\n",
              "      background-color: #434B5C;\n",
              "      box-shadow: 0px 1px 3px 1px rgba(0, 0, 0, 0.15);\n",
              "      filter: drop-shadow(0px 1px 2px rgba(0, 0, 0, 0.3));\n",
              "      fill: #FFFFFF;\n",
              "    }\n",
              "  </style>\n",
              "\n",
              "    <script>\n",
              "      const buttonEl =\n",
              "        document.querySelector('#df-4b742f3a-f574-4ed8-9f17-d8f65163a225 button.colab-df-convert');\n",
              "      buttonEl.style.display =\n",
              "        google.colab.kernel.accessAllowed ? 'block' : 'none';\n",
              "\n",
              "      async function convertToInteractive(key) {\n",
              "        const element = document.querySelector('#df-4b742f3a-f574-4ed8-9f17-d8f65163a225');\n",
              "        const dataTable =\n",
              "          await google.colab.kernel.invokeFunction('convertToInteractive',\n",
              "                                                    [key], {});\n",
              "        if (!dataTable) return;\n",
              "\n",
              "        const docLinkHtml = 'Like what you see? Visit the ' +\n",
              "          '<a target=\"_blank\" href=https://colab.research.google.com/notebooks/data_table.ipynb>data table notebook</a>'\n",
              "          + ' to learn more about interactive tables.';\n",
              "        element.innerHTML = '';\n",
              "        dataTable['output_type'] = 'display_data';\n",
              "        await google.colab.output.renderOutput(dataTable, element);\n",
              "        const docLink = document.createElement('div');\n",
              "        docLink.innerHTML = docLinkHtml;\n",
              "        element.appendChild(docLink);\n",
              "      }\n",
              "    </script>\n",
              "  </div>\n",
              "\n",
              "\n",
              "<div id=\"df-d45427cb-a4b6-4e97-8705-9f859184cc63\">\n",
              "  <button class=\"colab-df-quickchart\" onclick=\"quickchart('df-d45427cb-a4b6-4e97-8705-9f859184cc63')\"\n",
              "            title=\"Suggest charts\"\n",
              "            style=\"display:none;\">\n",
              "\n",
              "<svg xmlns=\"http://www.w3.org/2000/svg\" height=\"24px\"viewBox=\"0 0 24 24\"\n",
              "     width=\"24px\">\n",
              "    <g>\n",
              "        <path d=\"M19 3H5c-1.1 0-2 .9-2 2v14c0 1.1.9 2 2 2h14c1.1 0 2-.9 2-2V5c0-1.1-.9-2-2-2zM9 17H7v-7h2v7zm4 0h-2V7h2v10zm4 0h-2v-4h2v4z\"/>\n",
              "    </g>\n",
              "</svg>\n",
              "  </button>\n",
              "\n",
              "<style>\n",
              "  .colab-df-quickchart {\n",
              "      --bg-color: #E8F0FE;\n",
              "      --fill-color: #1967D2;\n",
              "      --hover-bg-color: #E2EBFA;\n",
              "      --hover-fill-color: #174EA6;\n",
              "      --disabled-fill-color: #AAA;\n",
              "      --disabled-bg-color: #DDD;\n",
              "  }\n",
              "\n",
              "  [theme=dark] .colab-df-quickchart {\n",
              "      --bg-color: #3B4455;\n",
              "      --fill-color: #D2E3FC;\n",
              "      --hover-bg-color: #434B5C;\n",
              "      --hover-fill-color: #FFFFFF;\n",
              "      --disabled-bg-color: #3B4455;\n",
              "      --disabled-fill-color: #666;\n",
              "  }\n",
              "\n",
              "  .colab-df-quickchart {\n",
              "    background-color: var(--bg-color);\n",
              "    border: none;\n",
              "    border-radius: 50%;\n",
              "    cursor: pointer;\n",
              "    display: none;\n",
              "    fill: var(--fill-color);\n",
              "    height: 32px;\n",
              "    padding: 0;\n",
              "    width: 32px;\n",
              "  }\n",
              "\n",
              "  .colab-df-quickchart:hover {\n",
              "    background-color: var(--hover-bg-color);\n",
              "    box-shadow: 0 1px 2px rgba(60, 64, 67, 0.3), 0 1px 3px 1px rgba(60, 64, 67, 0.15);\n",
              "    fill: var(--button-hover-fill-color);\n",
              "  }\n",
              "\n",
              "  .colab-df-quickchart-complete:disabled,\n",
              "  .colab-df-quickchart-complete:disabled:hover {\n",
              "    background-color: var(--disabled-bg-color);\n",
              "    fill: var(--disabled-fill-color);\n",
              "    box-shadow: none;\n",
              "  }\n",
              "\n",
              "  .colab-df-spinner {\n",
              "    border: 2px solid var(--fill-color);\n",
              "    border-color: transparent;\n",
              "    border-bottom-color: var(--fill-color);\n",
              "    animation:\n",
              "      spin 1s steps(1) infinite;\n",
              "  }\n",
              "\n",
              "  @keyframes spin {\n",
              "    0% {\n",
              "      border-color: transparent;\n",
              "      border-bottom-color: var(--fill-color);\n",
              "      border-left-color: var(--fill-color);\n",
              "    }\n",
              "    20% {\n",
              "      border-color: transparent;\n",
              "      border-left-color: var(--fill-color);\n",
              "      border-top-color: var(--fill-color);\n",
              "    }\n",
              "    30% {\n",
              "      border-color: transparent;\n",
              "      border-left-color: var(--fill-color);\n",
              "      border-top-color: var(--fill-color);\n",
              "      border-right-color: var(--fill-color);\n",
              "    }\n",
              "    40% {\n",
              "      border-color: transparent;\n",
              "      border-right-color: var(--fill-color);\n",
              "      border-top-color: var(--fill-color);\n",
              "    }\n",
              "    60% {\n",
              "      border-color: transparent;\n",
              "      border-right-color: var(--fill-color);\n",
              "    }\n",
              "    80% {\n",
              "      border-color: transparent;\n",
              "      border-right-color: var(--fill-color);\n",
              "      border-bottom-color: var(--fill-color);\n",
              "    }\n",
              "    90% {\n",
              "      border-color: transparent;\n",
              "      border-bottom-color: var(--fill-color);\n",
              "    }\n",
              "  }\n",
              "</style>\n",
              "\n",
              "  <script>\n",
              "    async function quickchart(key) {\n",
              "      const quickchartButtonEl =\n",
              "        document.querySelector('#' + key + ' button');\n",
              "      quickchartButtonEl.disabled = true;  // To prevent multiple clicks.\n",
              "      quickchartButtonEl.classList.add('colab-df-spinner');\n",
              "      try {\n",
              "        const charts = await google.colab.kernel.invokeFunction(\n",
              "            'suggestCharts', [key], {});\n",
              "      } catch (error) {\n",
              "        console.error('Error during call to suggestCharts:', error);\n",
              "      }\n",
              "      quickchartButtonEl.classList.remove('colab-df-spinner');\n",
              "      quickchartButtonEl.classList.add('colab-df-quickchart-complete');\n",
              "    }\n",
              "    (() => {\n",
              "      let quickchartButtonEl =\n",
              "        document.querySelector('#df-d45427cb-a4b6-4e97-8705-9f859184cc63 button');\n",
              "      quickchartButtonEl.style.display =\n",
              "        google.colab.kernel.accessAllowed ? 'block' : 'none';\n",
              "    })();\n",
              "  </script>\n",
              "</div>\n",
              "\n",
              "    </div>\n",
              "  </div>\n"
            ],
            "application/vnd.google.colaboratory.intrinsic+json": {
              "type": "dataframe",
              "variable_name": "df",
              "summary": "{\n  \"name\": \"df\",\n  \"rows\": 1303,\n  \"fields\": [\n    {\n      \"column\": \"Unnamed: 0\",\n      \"properties\": {\n        \"dtype\": \"number\",\n        \"std\": 376,\n        \"min\": 0,\n        \"max\": 1302,\n        \"num_unique_values\": 1303,\n        \"samples\": [\n          479,\n          1022,\n          298\n        ],\n        \"semantic_type\": \"\",\n        \"description\": \"\"\n      }\n    },\n    {\n      \"column\": \"Company\",\n      \"properties\": {\n        \"dtype\": \"category\",\n        \"num_unique_values\": 19,\n        \"samples\": [\n          \"Apple\",\n          \"Lenovo\",\n          \"Xiaomi\"\n        ],\n        \"semantic_type\": \"\",\n        \"description\": \"\"\n      }\n    },\n    {\n      \"column\": \"TypeName\",\n      \"properties\": {\n        \"dtype\": \"category\",\n        \"num_unique_values\": 6,\n        \"samples\": [\n          \"Ultrabook\",\n          \"Notebook\",\n          \"Workstation\"\n        ],\n        \"semantic_type\": \"\",\n        \"description\": \"\"\n      }\n    },\n    {\n      \"column\": \"Inches\",\n      \"properties\": {\n        \"dtype\": \"number\",\n        \"std\": 1.4263040545691665,\n        \"min\": 10.1,\n        \"max\": 18.4,\n        \"num_unique_values\": 18,\n        \"samples\": [\n          13.3,\n          15.6,\n          13.5\n        ],\n        \"semantic_type\": \"\",\n        \"description\": \"\"\n      }\n    },\n    {\n      \"column\": \"ScreenResolution\",\n      \"properties\": {\n        \"dtype\": \"category\",\n        \"num_unique_values\": 40,\n        \"samples\": [\n          \"IPS Panel 4K Ultra HD 3840x2160\",\n          \"4K Ultra HD / Touchscreen 3840x2160\",\n          \"IPS Panel Full HD 2160x1440\"\n        ],\n        \"semantic_type\": \"\",\n        \"description\": \"\"\n      }\n    },\n    {\n      \"column\": \"Cpu\",\n      \"properties\": {\n        \"dtype\": \"category\",\n        \"num_unique_values\": 118,\n        \"samples\": [\n          \"Intel Celeron Dual Core 3855U 1.6GHz\",\n          \"AMD A6-Series 7310 2GHz\",\n          \"Intel Core i5 3.1GHz\"\n        ],\n        \"semantic_type\": \"\",\n        \"description\": \"\"\n      }\n    },\n    {\n      \"column\": \"Ram\",\n      \"properties\": {\n        \"dtype\": \"category\",\n        \"num_unique_values\": 9,\n        \"samples\": [\n          \"24GB\",\n          \"16GB\",\n          \"6GB\"\n        ],\n        \"semantic_type\": \"\",\n        \"description\": \"\"\n      }\n    },\n    {\n      \"column\": \"Memory\",\n      \"properties\": {\n        \"dtype\": \"category\",\n        \"num_unique_values\": 39,\n        \"samples\": [\n          \"240GB SSD\",\n          \"1.0TB HDD\",\n          \"500GB HDD\"\n        ],\n        \"semantic_type\": \"\",\n        \"description\": \"\"\n      }\n    },\n    {\n      \"column\": \"Gpu\",\n      \"properties\": {\n        \"dtype\": \"category\",\n        \"num_unique_values\": 110,\n        \"samples\": [\n          \"AMD Radeon R7\",\n          \"AMD Radeon Pro 555\",\n          \"Intel Iris Plus Graphics 650\"\n        ],\n        \"semantic_type\": \"\",\n        \"description\": \"\"\n      }\n    },\n    {\n      \"column\": \"OpSys\",\n      \"properties\": {\n        \"dtype\": \"category\",\n        \"num_unique_values\": 9,\n        \"samples\": [\n          \"Chrome OS\",\n          \"No OS\",\n          \"Android\"\n        ],\n        \"semantic_type\": \"\",\n        \"description\": \"\"\n      }\n    },\n    {\n      \"column\": \"Weight\",\n      \"properties\": {\n        \"dtype\": \"category\",\n        \"num_unique_values\": 179,\n        \"samples\": [\n          \"4.42kg\",\n          \"1.35kg\",\n          \"2.03kg\"\n        ],\n        \"semantic_type\": \"\",\n        \"description\": \"\"\n      }\n    },\n    {\n      \"column\": \"Price\",\n      \"properties\": {\n        \"dtype\": \"number\",\n        \"std\": 37243.20178619774,\n        \"min\": 9270.72,\n        \"max\": 324954.72,\n        \"num_unique_values\": 791,\n        \"samples\": [\n          68837.76,\n          20725.92,\n          95797.44\n        ],\n        \"semantic_type\": \"\",\n        \"description\": \"\"\n      }\n    }\n  ]\n}"
            }
          },
          "metadata": {},
          "execution_count": 4
        }
      ],
      "source": [
        "df.head()"
      ]
    },
    {
      "cell_type": "code",
      "execution_count": 6,
      "id": "4f020145",
      "metadata": {
        "id": "4f020145",
        "outputId": "dedd346e-2959-4c0e-dc1c-f3a5b92d2127",
        "colab": {
          "base_uri": "https://localhost:8080/"
        }
      },
      "outputs": [
        {
          "output_type": "execute_result",
          "data": {
            "text/plain": [
              "Index(['Unnamed: 0', 'Company', 'TypeName', 'Inches', 'ScreenResolution',\n",
              "       'Cpu', 'Ram', 'Memory', 'Gpu', 'OpSys', 'Weight', 'Price'],\n",
              "      dtype='object')"
            ]
          },
          "metadata": {},
          "execution_count": 6
        }
      ],
      "source": [
        "df.columns = df.columns.str.strip()  # Removes any leading or trailing spaces\n",
        "df.columns\n"
      ]
    },
    {
      "cell_type": "markdown",
      "id": "6626b030",
      "metadata": {
        "id": "6626b030"
      },
      "source": [
        "#  Missing Data visualization and filling"
      ]
    },
    {
      "cell_type": "code",
      "execution_count": 8,
      "id": "b4bb0c27",
      "metadata": {
        "id": "b4bb0c27",
        "outputId": "62aec48e-9856-4307-be25-9816483693f4",
        "colab": {
          "base_uri": "https://localhost:8080/",
          "height": 651
        }
      },
      "outputs": [
        {
          "output_type": "display_data",
          "data": {
            "text/plain": [
              "<Figure size 1200x600 with 1 Axes>"
            ],
            "image/png": "[encoded data removed]"
          },
          "metadata": {}
        }
      ],
      "source": [
        "plt.figure(figsize=(12,6))\n",
        "sns.heatmap(df.isnull(), cbar=False, cmap=\"viridis\")\n",
        "plt.title(\"Missing Values Heatmap\")\n",
        "plt.show()\n"
      ]
    },
    {
      "cell_type": "code",
      "execution_count": 43,
      "id": "1c2db82b",
      "metadata": {
        "id": "1c2db82b",
        "outputId": "dee3b8cb-a450-4917-bbe2-22032b13e916",
        "colab": {
          "base_uri": "https://localhost:8080/"
        }
      },
      "outputs": [
        {
          "output_type": "stream",
          "name": "stdout",
          "text": [
            "Ram       100.0\n",
            "Weight    100.0\n",
            "dtype: float64\n"
          ]
        }
      ],
      "source": [
        "missing_values = df.isnull().sum() / len(df) * 100\n",
        "print(missing_values[missing_values > 0])  # Show columns with missing values\n"
      ]
    },
    {
      "cell_type": "code",
      "execution_count": 44,
      "id": "4168aafb",
      "metadata": {
        "id": "4168aafb",
        "outputId": "02bae13d-6a4d-48f2-ddab-9fc8b5054d73",
        "colab": {
          "base_uri": "https://localhost:8080/",
          "height": 487
        }
      },
      "outputs": [
        {
          "output_type": "display_data",
          "data": {
            "text/plain": [
              "<Figure size 1000x500 with 1 Axes>"
            ],
            "image/png": "[encoded data removed]"
          },
          "metadata": {}
        }
      ],
      "source": [
        "# Check if there are any columns with missing values exceeding 0%\n",
        "if (missing_values > 0).any():\n",
        "    missing_values[missing_values > 0].plot(kind='barh', figsize=(10, 5), color='red')\n",
        "    plt.xlabel(\"Percentage Missing\")\n",
        "    plt.title(\"Missing Values Per Column\")\n",
        "    plt.show()\n",
        "else:\n",
        "    print(\"No missing values to plot.\")  # Inform the user if no missing values are found"
      ]
    },
    {
      "cell_type": "code",
      "source": [
        "# Iterate through columns with missing values and fill them\n",
        "for col in missing_values[missing_values > 0].index:\n",
        "    if df[col].dtype == 'object':  # For categorical columns\n",
        "        df[col].fillna(df[col].mode()[0], inplace=True)  # Fill with mode\n",
        "        print(f\"Filled missing values in column '{col}' with its mode.\")\n",
        "    else:  # For numerical columns\n",
        "        df[col].fillna(df[col].mean(), inplace=True)  # Fill with mean\n",
        "        print(f\"Filled missing values in column '{col}' with its mean.\")"
      ],
      "metadata": {
        "colab": {
          "base_uri": "https://localhost:8080/"
        },
        "id": "wpcFJvaZmbS9",
        "outputId": "9148f09b-fb45-422f-a571-b829feae38da"
      },
      "id": "wpcFJvaZmbS9",
      "execution_count": 45,
      "outputs": [
        {
          "output_type": "stream",
          "name": "stdout",
          "text": [
            "Filled missing values in column 'Ram' with its mean.\n",
            "Filled missing values in column 'Weight' with its mean.\n"
          ]
        },
        {
          "output_type": "stream",
          "name": "stderr",
          "text": [
            "<ipython-input-45-6d8a48b147e2>:7: FutureWarning: A value is trying to be set on a copy of a DataFrame or Series through chained assignment using an inplace method.\n",
            "The behavior will change in pandas 3.0. This inplace method will never work because the intermediate object on which we are setting values always behaves as a copy.\n",
            "\n",
            "For example, when doing 'df[col].method(value, inplace=True)', try using 'df.method({col: value}, inplace=True)' or df[col] = df[col].method(value) instead, to perform the operation inplace on the original object.\n",
            "\n",
            "\n",
            "  df[col].fillna(df[col].mean(), inplace=True)  # Fill with mean\n"
          ]
        }
      ]
    },
    {
      "cell_type": "markdown",
      "id": "28e1197d",
      "metadata": {
        "id": "28e1197d"
      },
      "source": [
        "## # Splitting categorical and numerical features"
      ]
    },
    {
      "cell_type": "code",
      "source": [
        "\n",
        "categorical_features = ['Cpu', 'Gpu', 'Memory']\n",
        "numerical_features = ['Ram', 'Inches']"
      ],
      "metadata": {
        "id": "46oIPhycVOOD"
      },
      "id": "46oIPhycVOOD",
      "execution_count": 46,
      "outputs": []
    },
    {
      "cell_type": "markdown",
      "source": [
        "## Preprocessing pipeline"
      ],
      "metadata": {
        "id": "40cbEKMeV_Mk"
      },
      "id": "40cbEKMeV_Mk"
    },
    {
      "cell_type": "code",
      "source": [
        "preprocessor = ColumnTransformer([\n",
        "    ('num', StandardScaler(), numerical_features),\n",
        "    ('cat', OneHotEncoder(handle_unknown='ignore'), categorical_features)\n",
        "])"
      ],
      "metadata": {
        "id": "D36YhUKhV_y0"
      },
      "id": "D36YhUKhV_y0",
      "execution_count": 47,
      "outputs": []
    },
    {
      "cell_type": "markdown",
      "id": "4e10fc92",
      "metadata": {
        "id": "4e10fc92"
      },
      "source": [
        "# Box Plot Visualization for Detecting Outliers"
      ]
    },
    {
      "cell_type": "code",
      "execution_count": 48,
      "id": "4f57589d",
      "metadata": {
        "id": "4f57589d",
        "outputId": "288802ca-3c52-4d6c-94ba-2fac7e535835",
        "colab": {
          "base_uri": "https://localhost:8080/",
          "height": 588
        }
      },
      "outputs": [
        {
          "output_type": "display_data",
          "data": {
            "text/plain": [
              "<Figure size 1500x600 with 1 Axes>"
            ],
            "image/png": "[encoded data removed]"
          },
          "metadata": {}
        }
      ],
      "source": [
        "\n",
        "\n",
        "numerical_cols = df.select_dtypes(include=['float64', 'int64']).columns\n",
        "\n",
        "# Apply log transformation (if needed) to reduce skewness for better visualization\n",
        "df_log = df.copy()\n",
        "df_log[numerical_cols] = df[numerical_cols].apply(lambda x: np.log1p(x))  # log1p to avoid log(0) issues\n",
        "\n",
        "# Create a single figure\n",
        "plt.figure(figsize=(15, 6))\n",
        "\n",
        "# Plot a boxplot for all features together but adjust the width for clarity\n",
        "sns.boxplot(data=df_log[numerical_cols], width=0.5, palette=\"coolwarm\")\n",
        "\n",
        "# Rotate x labels for better visibility\n",
        "plt.xticks(rotation=45, ha='right')\n",
        "\n",
        "# Title\n",
        "plt.title(\"Boxplot of Numerical Features (Log-Scaled for Better Visualization)\")\n",
        "\n",
        "# Show the plot\n",
        "plt.show()\n"
      ]
    },
    {
      "cell_type": "code",
      "execution_count": 49,
      "id": "d71ea56a",
      "metadata": {
        "id": "d71ea56a",
        "outputId": "d37d780c-4711-4d48-b214-af362a78d305",
        "colab": {
          "base_uri": "https://localhost:8080/",
          "height": 893
        }
      },
      "outputs": [
        {
          "output_type": "display_data",
          "data": {
            "text/plain": [
              "<Figure size 1500x1000 with 6 Axes>"
            ],
            "image/png": "[encoded data removed]"
          },
          "metadata": {}
        }
      ],
      "source": [
        "\n",
        "df.hist(figsize=(15, 10), bins=30)\n",
        "plt.suptitle(\"Distribution of Features (Checking for Skewness)\", fontsize=16)\n",
        "\n",
        "# Adjust vertical spacing between subplots\n",
        "plt.subplots_adjust(hspace=0.5)  # Increase spacing between rows\n",
        "\n",
        "plt.show()\n"
      ]
    },
    {
      "cell_type": "code",
      "execution_count": 50,
      "id": "eb58f241",
      "metadata": {
        "id": "eb58f241",
        "outputId": "b1e459e9-165c-41d9-da5d-616750afce62",
        "colab": {
          "base_uri": "https://localhost:8080/",
          "height": 460
        }
      },
      "outputs": [
        {
          "output_type": "execute_result",
          "data": {
            "text/plain": [
              "Unnamed: 0             0\n",
              "Company                0\n",
              "TypeName               0\n",
              "Inches                 0\n",
              "ScreenResolution       0\n",
              "Cpu                    0\n",
              "Ram                 1303\n",
              "Memory                 0\n",
              "Gpu                    0\n",
              "OpSys                  0\n",
              "Weight              1303\n",
              "Price                  0\n",
              "dtype: int64"
            ],
            "text/html": [
              "<div>\n",
              "<style scoped>\n",
              "    .dataframe tbody tr th:only-of-type {\n",
              "        vertical-align: middle;\n",
              "    }\n",
              "\n",
              "    .dataframe tbody tr th {\n",
              "        vertical-align: top;\n",
              "    }\n",
              "\n",
              "    .dataframe thead th {\n",
              "        text-align: right;\n",
              "    }\n",
              "</style>\n",
              "<table border=\"1\" class=\"dataframe\">\n",
              "  <thead>\n",
              "    <tr style=\"text-align: right;\">\n",
              "      <th></th>\n",
              "      <th>0</th>\n",
              "    </tr>\n",
              "  </thead>\n",
              "  <tbody>\n",
              "    <tr>\n",
              "      <th>Unnamed: 0</th>\n",
              "      <td>0</td>\n",
              "    </tr>\n",
              "    <tr>\n",
              "      <th>Company</th>\n",
              "      <td>0</td>\n",
              "    </tr>\n",
              "    <tr>\n",
              "      <th>TypeName</th>\n",
              "      <td>0</td>\n",
              "    </tr>\n",
              "    <tr>\n",
              "      <th>Inches</th>\n",
              "      <td>0</td>\n",
              "    </tr>\n",
              "    <tr>\n",
              "      <th>ScreenResolution</th>\n",
              "      <td>0</td>\n",
              "    </tr>\n",
              "    <tr>\n",
              "      <th>Cpu</th>\n",
              "      <td>0</td>\n",
              "    </tr>\n",
              "    <tr>\n",
              "      <th>Ram</th>\n",
              "      <td>1303</td>\n",
              "    </tr>\n",
              "    <tr>\n",
              "      <th>Memory</th>\n",
              "      <td>0</td>\n",
              "    </tr>\n",
              "    <tr>\n",
              "      <th>Gpu</th>\n",
              "      <td>0</td>\n",
              "    </tr>\n",
              "    <tr>\n",
              "      <th>OpSys</th>\n",
              "      <td>0</td>\n",
              "    </tr>\n",
              "    <tr>\n",
              "      <th>Weight</th>\n",
              "      <td>1303</td>\n",
              "    </tr>\n",
              "    <tr>\n",
              "      <th>Price</th>\n",
              "      <td>0</td>\n",
              "    </tr>\n",
              "  </tbody>\n",
              "</table>\n",
              "</div><br><label><b>dtype:</b> int64</label>"
            ]
          },
          "metadata": {},
          "execution_count": 50
        }
      ],
      "source": [
        "df.isnull().sum()"
      ]
    },
    {
      "cell_type": "markdown",
      "id": "ed837d8d",
      "metadata": {
        "id": "ed837d8d"
      },
      "source": [
        "# Handling and Fixing Outliers for Robust Model Performance"
      ]
    },
    {
      "cell_type": "code",
      "execution_count": 51,
      "id": "396ac5c7",
      "metadata": {
        "id": "396ac5c7",
        "outputId": "9227eff2-98a6-492b-8be4-1bfa037ae516",
        "colab": {
          "base_uri": "https://localhost:8080/"
        }
      },
      "outputs": [
        {
          "output_type": "stream",
          "name": "stdout",
          "text": [
            "Number of outliers per column:\n",
            "             Outlier Count\n",
            "Unnamed: 0              0\n",
            "Inches                  0\n",
            "Ram                     0\n",
            "Weight                  0\n",
            "Price                   0\n"
          ]
        }
      ],
      "source": [
        "import numpy as np\n",
        "\n",
        "# Select only numeric columns\n",
        "numeric_cols = df.select_dtypes(include=[np.number])\n",
        "\n",
        "# Compute Q1 (25th percentile) and Q3 (75th percentile)\n",
        "Q1 = numeric_cols.quantile(0.25)\n",
        "Q3 = numeric_cols.quantile(0.75)\n",
        "IQR = Q3 - Q1  # Interquartile Range\n",
        "\n",
        "# Define outlier boundaries\n",
        "lower_bound = Q1 - 1.5 * IQR\n",
        "upper_bound = Q3 + 1.5 * IQR\n",
        "\n",
        "# Identify outliers (Boolean DataFrame)\n",
        "outliers = (numeric_cols < lower_bound) | (numeric_cols > upper_bound)\n",
        "\n",
        "# Count outliers per column and sort in descending order\n",
        "outlier_counts = outliers.sum().sort_values(ascending=False).to_frame(name=\"Outlier Count\")\n",
        "\n",
        "# Display outlier summary\n",
        "print(\"Number of outliers per column:\\n\", outlier_counts)\n"
      ]
    },
    {
      "cell_type": "markdown",
      "id": "b473d554",
      "metadata": {
        "id": "b473d554"
      },
      "source": [
        "### Bar Chart: Number of Outliers per Column"
      ]
    },
    {
      "cell_type": "code",
      "execution_count": 52,
      "id": "546dde10",
      "metadata": {
        "id": "546dde10",
        "outputId": "0fecaaee-fe39-4dbc-9c9c-332e8920f5f6",
        "colab": {
          "base_uri": "https://localhost:8080/",
          "height": 625
        }
      },
      "outputs": [
        {
          "output_type": "display_data",
          "data": {
            "text/plain": [
              "<Figure size 1200x600 with 1 Axes>"
            ],
            "image/png": "[encoded data removed]"
          },
          "metadata": {}
        }
      ],
      "source": [
        "# Count outliers for each column\n",
        "outlier_counts = outliers.sum()\n",
        "\n",
        "# Plot bar chart\n",
        "plt.figure(figsize=(12, 6))\n",
        "outlier_counts.plot(kind=\"bar\", color=\"red\")\n",
        "\n",
        "# Customize plot\n",
        "plt.title(\"Number of Outliers per Feature\", fontsize=14)\n",
        "plt.xlabel(\"Features\", fontsize=12)\n",
        "plt.ylabel(\"Outlier Count\", fontsize=12)\n",
        "plt.xticks(rotation=45, ha=\"right\")\n",
        "\n",
        "# Show plot\n",
        "plt.show()"
      ]
    },
    {
      "cell_type": "code",
      "execution_count": 53,
      "id": "3982e2c4",
      "metadata": {
        "id": "3982e2c4"
      },
      "outputs": [],
      "source": [
        "import numpy as np\n",
        "\n",
        "# List of features to cap instead of removing\n",
        "columns_to_cap = ['Inches', 'Ram', 'Weight', 'Price']\n",
        "\n",
        "# Convert columns to numeric before calculating quantiles\n",
        "for col in columns_to_cap:\n",
        "    df[col] = pd.to_numeric(df[col], errors='coerce')  # 'coerce' converts non-numeric to NaN\n",
        "\n",
        "# Compute IQR for each column\n",
        "Q1 = df[columns_to_cap].quantile(0.25)\n",
        "Q3 = df[columns_to_cap].quantile(0.75)\n",
        "IQR = Q3 - Q1\n",
        "\n",
        "# Define capping limits\n",
        "lower_bound = Q1 - 1.5 * IQR\n",
        "upper_bound = Q3 + 1.5 * IQR\n",
        "\n",
        "# Apply Winsorization (Capping)\n",
        "df[columns_to_cap] = df[columns_to_cap].clip(lower=lower_bound, upper=upper_bound, axis=1)"
      ]
    },
    {
      "cell_type": "code",
      "execution_count": 54,
      "id": "fbab1f25",
      "metadata": {
        "id": "fbab1f25"
      },
      "outputs": [],
      "source": [
        "# List of features where we can afford to remove extreme values\n",
        "columns_to_remove_outliers = ['Inches', 'Ram', 'Weight', 'Price'] # Changed the columns to numerical features\n",
        "\n",
        "# Compute IQR\n",
        "Q1 = df[columns_to_remove_outliers].quantile(0.25)\n",
        "Q3 = df[columns_to_remove_outliers].quantile(0.75)\n",
        "IQR = Q3 - Q1\n",
        "\n",
        "# Remove rows where these features have extreme values\n",
        "df = df[~((df[columns_to_remove_outliers] < (Q1 - 1.5 * IQR)) |\n",
        "          (df[columns_to_remove_outliers] > (Q3 + 1.5 * IQR))).any(axis=1)]"
      ]
    },
    {
      "cell_type": "code",
      "execution_count": null,
      "id": "ef21bab3",
      "metadata": {
        "id": "ef21bab3"
      },
      "outputs": [],
      "source": []
    },
    {
      "cell_type": "code",
      "execution_count": 55,
      "id": "5f4eaf58",
      "metadata": {
        "id": "5f4eaf58",
        "outputId": "3d40c872-925f-4e36-81d6-0b6b2e3f021c",
        "colab": {
          "base_uri": "https://localhost:8080/",
          "height": 659
        }
      },
      "outputs": [
        {
          "output_type": "display_data",
          "data": {
            "text/plain": [
              "<Figure size 1500x700 with 1 Axes>"
            ],
            "image/png": "[encoded data removed]"
          },
          "metadata": {}
        }
      ],
      "source": [
        "# Verify if outliers are handled properly\n",
        "plt.figure(figsize=(15, 7))\n",
        "sns.boxplot(data=df)\n",
        "plt.xticks(rotation=90)\n",
        "plt.title(\"Boxplot After Outlier Treatment\")\n",
        "plt.show()\n"
      ]
    },
    {
      "cell_type": "code",
      "execution_count": 56,
      "id": "780a706c",
      "metadata": {
        "id": "780a706c",
        "outputId": "5016e34f-c117-4a65-d992-f4fd9efff02f",
        "colab": {
          "base_uri": "https://localhost:8080/",
          "height": 327
        }
      },
      "outputs": [
        {
          "output_type": "stream",
          "name": "stdout",
          "text": [
            "[nan]\n"
          ]
        },
        {
          "output_type": "execute_result",
          "data": {
            "text/plain": [
              "   Unnamed: 0 Company   TypeName  Inches                    ScreenResolution  \\\n",
              "0           0   Apple  Ultrabook    13.3  IPS Panel Retina Display 2560x1600   \n",
              "1           1   Apple  Ultrabook    13.3                            1440x900   \n",
              "2           2      HP   Notebook    15.6                   Full HD 1920x1080   \n",
              "3           3   Apple  Ultrabook    15.4  IPS Panel Retina Display 2880x1800   \n",
              "4           4   Apple  Ultrabook    13.3  IPS Panel Retina Display 2560x1600   \n",
              "\n",
              "                          Cpu  Ram               Memory  \\\n",
              "0        Intel Core i5 2.3GHz  NaN            128GB SSD   \n",
              "1        Intel Core i5 1.8GHz  NaN  128GB Flash Storage   \n",
              "2  Intel Core i5 7200U 2.5GHz  NaN            256GB SSD   \n",
              "3        Intel Core i7 2.7GHz  NaN            512GB SSD   \n",
              "4        Intel Core i5 3.1GHz  NaN            256GB SSD   \n",
              "\n",
              "                            Gpu  OpSys  Weight        Price  \n",
              "0  Intel Iris Plus Graphics 640  macOS     NaN   71378.6832  \n",
              "1        Intel HD Graphics 6000  macOS     NaN   47895.5232  \n",
              "2         Intel HD Graphics 620  No OS     NaN   30636.0000  \n",
              "3            AMD Radeon Pro 455  macOS     NaN  135195.3360  \n",
              "4  Intel Iris Plus Graphics 650  macOS     NaN   96095.8080  "
            ],
            "text/html": [
              "\n",
              "  <div id=\"df-1f5944fc-dac9-4ac4-9aea-2cf84fc70d06\" class=\"colab-df-container\">\n",
              "    <div>\n",
              "<style scoped>\n",
              "    .dataframe tbody tr th:only-of-type {\n",
              "        vertical-align: middle;\n",
              "    }\n",
              "\n",
              "    .dataframe tbody tr th {\n",
              "        vertical-align: top;\n",
              "    }\n",
              "\n",
              "    .dataframe thead th {\n",
              "        text-align: right;\n",
              "    }\n",
              "</style>\n",
              "<table border=\"1\" class=\"dataframe\">\n",
              "  <thead>\n",
              "    <tr style=\"text-align: right;\">\n",
              "      <th></th>\n",
              "      <th>Unnamed: 0</th>\n",
              "      <th>Company</th>\n",
              "      <th>TypeName</th>\n",
              "      <th>Inches</th>\n",
              "      <th>ScreenResolution</th>\n",
              "      <th>Cpu</th>\n",
              "      <th>Ram</th>\n",
              "      <th>Memory</th>\n",
              "      <th>Gpu</th>\n",
              "      <th>OpSys</th>\n",
              "      <th>Weight</th>\n",
              "      <th>Price</th>\n",
              "    </tr>\n",
              "  </thead>\n",
              "  <tbody>\n",
              "    <tr>\n",
              "      <th>0</th>\n",
              "      <td>0</td>\n",
              "      <td>Apple</td>\n",
              "      <td>Ultrabook</td>\n",
              "      <td>13.3</td>\n",
              "      <td>IPS Panel Retina Display 2560x1600</td>\n",
              "      <td>Intel Core i5 2.3GHz</td>\n",
              "      <td>NaN</td>\n",
              "      <td>128GB SSD</td>\n",
              "      <td>Intel Iris Plus Graphics 640</td>\n",
              "      <td>macOS</td>\n",
              "      <td>NaN</td>\n",
              "      <td>71378.6832</td>\n",
              "    </tr>\n",
              "    <tr>\n",
              "      <th>1</th>\n",
              "      <td>1</td>\n",
              "      <td>Apple</td>\n",
              "      <td>Ultrabook</td>\n",
              "      <td>13.3</td>\n",
              "      <td>1440x900</td>\n",
              "      <td>Intel Core i5 1.8GHz</td>\n",
              "      <td>NaN</td>\n",
              "      <td>128GB Flash Storage</td>\n",
              "      <td>Intel HD Graphics 6000</td>\n",
              "      <td>macOS</td>\n",
              "      <td>NaN</td>\n",
              "      <td>47895.5232</td>\n",
              "    </tr>\n",
              "    <tr>\n",
              "      <th>2</th>\n",
              "      <td>2</td>\n",
              "      <td>HP</td>\n",
              "      <td>Notebook</td>\n",
              "      <td>15.6</td>\n",
              "      <td>Full HD 1920x1080</td>\n",
              "      <td>Intel Core i5 7200U 2.5GHz</td>\n",
              "      <td>NaN</td>\n",
              "      <td>256GB SSD</td>\n",
              "      <td>Intel HD Graphics 620</td>\n",
              "      <td>No OS</td>\n",
              "      <td>NaN</td>\n",
              "      <td>30636.0000</td>\n",
              "    </tr>\n",
              "    <tr>\n",
              "      <th>3</th>\n",
              "      <td>3</td>\n",
              "      <td>Apple</td>\n",
              "      <td>Ultrabook</td>\n",
              "      <td>15.4</td>\n",
              "      <td>IPS Panel Retina Display 2880x1800</td>\n",
              "      <td>Intel Core i7 2.7GHz</td>\n",
              "      <td>NaN</td>\n",
              "      <td>512GB SSD</td>\n",
              "      <td>AMD Radeon Pro 455</td>\n",
              "      <td>macOS</td>\n",
              "      <td>NaN</td>\n",
              "      <td>135195.3360</td>\n",
              "    </tr>\n",
              "    <tr>\n",
              "      <th>4</th>\n",
              "      <td>4</td>\n",
              "      <td>Apple</td>\n",
              "      <td>Ultrabook</td>\n",
              "      <td>13.3</td>\n",
              "      <td>IPS Panel Retina Display 2560x1600</td>\n",
              "      <td>Intel Core i5 3.1GHz</td>\n",
              "      <td>NaN</td>\n",
              "      <td>256GB SSD</td>\n",
              "      <td>Intel Iris Plus Graphics 650</td>\n",
              "      <td>macOS</td>\n",
              "      <td>NaN</td>\n",
              "      <td>96095.8080</td>\n",
              "    </tr>\n",
              "  </tbody>\n",
              "</table>\n",
              "</div>\n",
              "    <div class=\"colab-df-buttons\">\n",
              "\n",
              "  <div class=\"colab-df-container\">\n",
              "    <button class=\"colab-df-convert\" onclick=\"convertToInteractive('df-1f5944fc-dac9-4ac4-9aea-2cf84fc70d06')\"\n",
              "            title=\"Convert this dataframe to an interactive table.\"\n",
              "            style=\"display:none;\">\n",
              "\n",
              "  <svg xmlns=\"http://www.w3.org/2000/svg\" height=\"24px\" viewBox=\"0 -960 960 960\">\n",
              "    <path d=\"M120-120v-720h720v720H120Zm60-500h600v-160H180v160Zm220 220h160v-160H400v160Zm0 220h160v-160H400v160ZM180-400h160v-160H180v160Zm440 0h160v-160H620v160ZM180-180h160v-160H180v160Zm440 0h160v-160H620v160Z\"/>\n",
              "  </svg>\n",
              "    </button>\n",
              "\n",
              "  <style>\n",
              "    .colab-df-container {\n",
              "      display:flex;\n",
              "      gap: 12px;\n",
              "    }\n",
              "\n",
              "    .colab-df-convert {\n",
              "      background-color: #E8F0FE;\n",
              "      border: none;\n",
              "      border-radius: 50%;\n",
              "      cursor: pointer;\n",
              "      display: none;\n",
              "      fill: #1967D2;\n",
              "      height: 32px;\n",
              "      padding: 0 0 0 0;\n",
              "      width: 32px;\n",
              "    }\n",
              "\n",
              "    .colab-df-convert:hover {\n",
              "      background-color: #E2EBFA;\n",
              "      box-shadow: 0px 1px 2px rgba(60, 64, 67, 0.3), 0px 1px 3px 1px rgba(60, 64, 67, 0.15);\n",
              "      fill: #174EA6;\n",
              "    }\n",
              "\n",
              "    .colab-df-buttons div {\n",
              "      margin-bottom: 4px;\n",
              "    }\n",
              "\n",
              "    [theme=dark] .colab-df-convert {\n",
              "      background-color: #3B4455;\n",
              "      fill: #D2E3FC;\n",
              "    }\n",
              "\n",
              "    [theme=dark] .colab-df-convert:hover {\n",
              "      background-color: #434B5C;\n",
              "      box-shadow: 0px 1px 3px 1px rgba(0, 0, 0, 0.15);\n",
              "      filter: drop-shadow(0px 1px 2px rgba(0, 0, 0, 0.3));\n",
              "      fill: #FFFFFF;\n",
              "    }\n",
              "  </style>\n",
              "\n",
              "    <script>\n",
              "      const buttonEl =\n",
              "        document.querySelector('#df-1f5944fc-dac9-4ac4-9aea-2cf84fc70d06 button.colab-df-convert');\n",
              "      buttonEl.style.display =\n",
              "        google.colab.kernel.accessAllowed ? 'block' : 'none';\n",
              "\n",
              "      async function convertToInteractive(key) {\n",
              "        const element = document.querySelector('#df-1f5944fc-dac9-4ac4-9aea-2cf84fc70d06');\n",
              "        const dataTable =\n",
              "          await google.colab.kernel.invokeFunction('convertToInteractive',\n",
              "                                                    [key], {});\n",
              "        if (!dataTable) return;\n",
              "\n",
              "        const docLinkHtml = 'Like what you see? Visit the ' +\n",
              "          '<a target=\"_blank\" href=https://colab.research.google.com/notebooks/data_table.ipynb>data table notebook</a>'\n",
              "          + ' to learn more about interactive tables.';\n",
              "        element.innerHTML = '';\n",
              "        dataTable['output_type'] = 'display_data';\n",
              "        await google.colab.output.renderOutput(dataTable, element);\n",
              "        const docLink = document.createElement('div');\n",
              "        docLink.innerHTML = docLinkHtml;\n",
              "        element.appendChild(docLink);\n",
              "      }\n",
              "    </script>\n",
              "  </div>\n",
              "\n",
              "\n",
              "<div id=\"df-d7014e0a-7781-44ba-bd17-7e54eaea90d4\">\n",
              "  <button class=\"colab-df-quickchart\" onclick=\"quickchart('df-d7014e0a-7781-44ba-bd17-7e54eaea90d4')\"\n",
              "            title=\"Suggest charts\"\n",
              "            style=\"display:none;\">\n",
              "\n",
              "<svg xmlns=\"http://www.w3.org/2000/svg\" height=\"24px\"viewBox=\"0 0 24 24\"\n",
              "     width=\"24px\">\n",
              "    <g>\n",
              "        <path d=\"M19 3H5c-1.1 0-2 .9-2 2v14c0 1.1.9 2 2 2h14c1.1 0 2-.9 2-2V5c0-1.1-.9-2-2-2zM9 17H7v-7h2v7zm4 0h-2V7h2v10zm4 0h-2v-4h2v4z\"/>\n",
              "    </g>\n",
              "</svg>\n",
              "  </button>\n",
              "\n",
              "<style>\n",
              "  .colab-df-quickchart {\n",
              "      --bg-color: #E8F0FE;\n",
              "      --fill-color: #1967D2;\n",
              "      --hover-bg-color: #E2EBFA;\n",
              "      --hover-fill-color: #174EA6;\n",
              "      --disabled-fill-color: #AAA;\n",
              "      --disabled-bg-color: #DDD;\n",
              "  }\n",
              "\n",
              "  [theme=dark] .colab-df-quickchart {\n",
              "      --bg-color: #3B4455;\n",
              "      --fill-color: #D2E3FC;\n",
              "      --hover-bg-color: #434B5C;\n",
              "      --hover-fill-color: #FFFFFF;\n",
              "      --disabled-bg-color: #3B4455;\n",
              "      --disabled-fill-color: #666;\n",
              "  }\n",
              "\n",
              "  .colab-df-quickchart {\n",
              "    background-color: var(--bg-color);\n",
              "    border: none;\n",
              "    border-radius: 50%;\n",
              "    cursor: pointer;\n",
              "    display: none;\n",
              "    fill: var(--fill-color);\n",
              "    height: 32px;\n",
              "    padding: 0;\n",
              "    width: 32px;\n",
              "  }\n",
              "\n",
              "  .colab-df-quickchart:hover {\n",
              "    background-color: var(--hover-bg-color);\n",
              "    box-shadow: 0 1px 2px rgba(60, 64, 67, 0.3), 0 1px 3px 1px rgba(60, 64, 67, 0.15);\n",
              "    fill: var(--button-hover-fill-color);\n",
              "  }\n",
              "\n",
              "  .colab-df-quickchart-complete:disabled,\n",
              "  .colab-df-quickchart-complete:disabled:hover {\n",
              "    background-color: var(--disabled-bg-color);\n",
              "    fill: var(--disabled-fill-color);\n",
              "    box-shadow: none;\n",
              "  }\n",
              "\n",
              "  .colab-df-spinner {\n",
              "    border: 2px solid var(--fill-color);\n",
              "    border-color: transparent;\n",
              "    border-bottom-color: var(--fill-color);\n",
              "    animation:\n",
              "      spin 1s steps(1) infinite;\n",
              "  }\n",
              "\n",
              "  @keyframes spin {\n",
              "    0% {\n",
              "      border-color: transparent;\n",
              "      border-bottom-color: var(--fill-color);\n",
              "      border-left-color: var(--fill-color);\n",
              "    }\n",
              "    20% {\n",
              "      border-color: transparent;\n",
              "      border-left-color: var(--fill-color);\n",
              "      border-top-color: var(--fill-color);\n",
              "    }\n",
              "    30% {\n",
              "      border-color: transparent;\n",
              "      border-left-color: var(--fill-color);\n",
              "      border-top-color: var(--fill-color);\n",
              "      border-right-color: var(--fill-color);\n",
              "    }\n",
              "    40% {\n",
              "      border-color: transparent;\n",
              "      border-right-color: var(--fill-color);\n",
              "      border-top-color: var(--fill-color);\n",
              "    }\n",
              "    60% {\n",
              "      border-color: transparent;\n",
              "      border-right-color: var(--fill-color);\n",
              "    }\n",
              "    80% {\n",
              "      border-color: transparent;\n",
              "      border-right-color: var(--fill-color);\n",
              "      border-bottom-color: var(--fill-color);\n",
              "    }\n",
              "    90% {\n",
              "      border-color: transparent;\n",
              "      border-bottom-color: var(--fill-color);\n",
              "    }\n",
              "  }\n",
              "</style>\n",
              "\n",
              "  <script>\n",
              "    async function quickchart(key) {\n",
              "      const quickchartButtonEl =\n",
              "        document.querySelector('#' + key + ' button');\n",
              "      quickchartButtonEl.disabled = true;  // To prevent multiple clicks.\n",
              "      quickchartButtonEl.classList.add('colab-df-spinner');\n",
              "      try {\n",
              "        const charts = await google.colab.kernel.invokeFunction(\n",
              "            'suggestCharts', [key], {});\n",
              "      } catch (error) {\n",
              "        console.error('Error during call to suggestCharts:', error);\n",
              "      }\n",
              "      quickchartButtonEl.classList.remove('colab-df-spinner');\n",
              "      quickchartButtonEl.classList.add('colab-df-quickchart-complete');\n",
              "    }\n",
              "    (() => {\n",
              "      let quickchartButtonEl =\n",
              "        document.querySelector('#df-d7014e0a-7781-44ba-bd17-7e54eaea90d4 button');\n",
              "      quickchartButtonEl.style.display =\n",
              "        google.colab.kernel.accessAllowed ? 'block' : 'none';\n",
              "    })();\n",
              "  </script>\n",
              "</div>\n",
              "\n",
              "    </div>\n",
              "  </div>\n"
            ],
            "application/vnd.google.colaboratory.intrinsic+json": {
              "type": "dataframe",
              "variable_name": "df",
              "summary": "{\n  \"name\": \"df\",\n  \"rows\": 1303,\n  \"fields\": [\n    {\n      \"column\": \"Unnamed: 0\",\n      \"properties\": {\n        \"dtype\": \"number\",\n        \"std\": 376,\n        \"min\": 0,\n        \"max\": 1302,\n        \"num_unique_values\": 1303,\n        \"samples\": [\n          479,\n          1022,\n          298\n        ],\n        \"semantic_type\": \"\",\n        \"description\": \"\"\n      }\n    },\n    {\n      \"column\": \"Company\",\n      \"properties\": {\n        \"dtype\": \"category\",\n        \"num_unique_values\": 19,\n        \"samples\": [\n          \"Apple\",\n          \"Lenovo\",\n          \"Xiaomi\"\n        ],\n        \"semantic_type\": \"\",\n        \"description\": \"\"\n      }\n    },\n    {\n      \"column\": \"TypeName\",\n      \"properties\": {\n        \"dtype\": \"category\",\n        \"num_unique_values\": 6,\n        \"samples\": [\n          \"Ultrabook\",\n          \"Notebook\",\n          \"Workstation\"\n        ],\n        \"semantic_type\": \"\",\n        \"description\": \"\"\n      }\n    },\n    {\n      \"column\": \"Inches\",\n      \"properties\": {\n        \"dtype\": \"number\",\n        \"std\": 1.4114942211716912,\n        \"min\": 11.600000000000001,\n        \"max\": 18.0,\n        \"num_unique_values\": 16,\n        \"samples\": [\n          13.3,\n          15.6,\n          11.600000000000001\n        ],\n        \"semantic_type\": \"\",\n        \"description\": \"\"\n      }\n    },\n    {\n      \"column\": \"ScreenResolution\",\n      \"properties\": {\n        \"dtype\": \"category\",\n        \"num_unique_values\": 40,\n        \"samples\": [\n          \"IPS Panel 4K Ultra HD 3840x2160\",\n          \"4K Ultra HD / Touchscreen 3840x2160\",\n          \"IPS Panel Full HD 2160x1440\"\n        ],\n        \"semantic_type\": \"\",\n        \"description\": \"\"\n      }\n    },\n    {\n      \"column\": \"Cpu\",\n      \"properties\": {\n        \"dtype\": \"category\",\n        \"num_unique_values\": 118,\n        \"samples\": [\n          \"Intel Celeron Dual Core 3855U 1.6GHz\",\n          \"AMD A6-Series 7310 2GHz\",\n          \"Intel Core i5 3.1GHz\"\n        ],\n        \"semantic_type\": \"\",\n        \"description\": \"\"\n      }\n    },\n    {\n      \"column\": \"Ram\",\n      \"properties\": {\n        \"dtype\": \"number\",\n        \"std\": null,\n        \"min\": null,\n        \"max\": null,\n        \"num_unique_values\": 0,\n        \"samples\": [],\n        \"semantic_type\": \"\",\n        \"description\": \"\"\n      }\n    },\n    {\n      \"column\": \"Memory\",\n      \"properties\": {\n        \"dtype\": \"category\",\n        \"num_unique_values\": 39,\n        \"samples\": [],\n        \"semantic_type\": \"\",\n        \"description\": \"\"\n      }\n    },\n    {\n      \"column\": \"Gpu\",\n      \"properties\": {\n        \"dtype\": \"category\",\n        \"num_unique_values\": 110,\n        \"samples\": [],\n        \"semantic_type\": \"\",\n        \"description\": \"\"\n      }\n    },\n    {\n      \"column\": \"OpSys\",\n      \"properties\": {\n        \"dtype\": \"category\",\n        \"num_unique_values\": 9,\n        \"samples\": [],\n        \"semantic_type\": \"\",\n        \"description\": \"\"\n      }\n    },\n    {\n      \"column\": \"Weight\",\n      \"properties\": {\n        \"dtype\": \"number\",\n        \"std\": null,\n        \"min\": null,\n        \"max\": null,\n        \"num_unique_values\": 0,\n        \"samples\": [],\n        \"semantic_type\": \"\",\n        \"description\": \"\"\n      }\n    },\n    {\n      \"column\": \"Price\",\n      \"properties\": {\n        \"dtype\": \"number\",\n        \"std\": 34313.17069639281,\n        \"min\": 9270.72,\n        \"max\": 150313.53600000002,\n        \"num_unique_values\": 766,\n        \"samples\": [],\n        \"semantic_type\": \"\",\n        \"description\": \"\"\n      }\n    }\n  ]\n}"
            }
          },
          "metadata": {},
          "execution_count": 56
        }
      ],
      "source": [
        "print(df[\"Weight\"].unique())\n",
        "# Create DataFrame\n",
        "\n",
        "\n",
        "# Perform one-hot encoding using pd.get_dummies\n",
        "# Convert 'Weight' column into numeric values (0 = Developing, 1 = Developed)\n",
        "# Assuming 'Weight' column contains the status information (Developing/Developed)\n",
        "# Replace 'Weight' with your actual column name if it's different\n",
        "df['Weight'] = df['Weight'].map({'Developing': 0, 'Developed': 1})\n",
        "df.head()"
      ]
    },
    {
      "cell_type": "markdown",
      "id": "fd09b80b",
      "metadata": {
        "id": "fd09b80b"
      },
      "source": [
        "# Correlation analyis"
      ]
    },
    {
      "cell_type": "code",
      "execution_count": 57,
      "id": "202aa1b0",
      "metadata": {
        "id": "202aa1b0",
        "outputId": "b4ec946f-b345-4621-effd-72a4af7dacd0",
        "colab": {
          "base_uri": "https://localhost:8080/",
          "height": 699
        }
      },
      "outputs": [
        {
          "output_type": "display_data",
          "data": {
            "text/plain": [
              "<Figure size 1200x800 with 2 Axes>"
            ],
            "image/png": "[encoded data removed]"
          },
          "metadata": {}
        }
      ],
      "source": [
        "correlation_matrix = df.select_dtypes(include=['number']).corr()\n",
        "\n",
        "# Visualize the correlation matrix\n",
        "plt.figure(figsize=(12, 8))\n",
        "sns.heatmap(correlation_matrix, annot=True, cmap=\"coolwarm\", linewidths=0.5)\n",
        "plt.title(\"Correlation Heatmap\")\n",
        "plt.show()\n",
        "\n"
      ]
    },
    {
      "cell_type": "markdown",
      "id": "9a339299",
      "metadata": {
        "id": "9a339299"
      },
      "source": [
        "# Building Linear Regression Model from scratch"
      ]
    },
    {
      "cell_type": "code",
      "execution_count": 58,
      "id": "2e8a9b0c",
      "metadata": {
        "id": "2e8a9b0c"
      },
      "outputs": [],
      "source": [
        "import numpy as np\n",
        "import pandas as pd\n",
        "import matplotlib.pyplot as plt\n",
        "from sklearn.model_selection import train_test_split\n",
        "from sklearn.preprocessing import StandardScaler"
      ]
    },
    {
      "cell_type": "code",
      "execution_count": 59,
      "id": "e520a7b1",
      "metadata": {
        "id": "e520a7b1",
        "colab": {
          "base_uri": "https://localhost:8080/"
        },
        "outputId": "f46eba29-08dd-4d7a-be2b-5142493e6bb0"
      },
      "outputs": [
        {
          "output_type": "stream",
          "name": "stdout",
          "text": [
            "Training data shape: (1042, 11), Testing data shape: (261, 11)\n"
          ]
        },
        {
          "output_type": "stream",
          "name": "stderr",
          "text": [
            "/usr/local/lib/python3.11/dist-packages/sklearn/utils/extmath.py:1101: RuntimeWarning: invalid value encountered in divide\n",
            "  updated_mean = (last_sum + new_sum) / updated_sample_count\n",
            "/usr/local/lib/python3.11/dist-packages/sklearn/utils/extmath.py:1106: RuntimeWarning: invalid value encountered in divide\n",
            "  T = new_sum / new_sample_count\n",
            "/usr/local/lib/python3.11/dist-packages/sklearn/utils/extmath.py:1126: RuntimeWarning: invalid value encountered in divide\n",
            "  new_unnormalized_variance -= correction**2 / new_sample_count\n"
          ]
        }
      ],
      "source": [
        "# Load the dataset (assuming you have 'df' already processed)\n",
        "X = df.drop(columns=['Price'])  # Features\n",
        "y = df['Price']  # Target variable\n",
        "\n",
        "# Define numerical_cols correctly (excluding 'Price')\n",
        "numerical_cols = ['Ram', 'Inches', 'Weight'] # Removed Unnamed: 0 and Price from the numerical features\n",
        "\n",
        "# Split the dataset (80% train, 20% test)\n",
        "X_train, X_test, y_train, y_test = train_test_split(X, y, test_size=0.2, random_state=42)\n",
        "\n",
        "# Initialize the StandardScaler\n",
        "scaler = StandardScaler()\n",
        "\n",
        "# Apply scaling using loc and assign to new variables\n",
        "X_train_scaled = X_train.copy() # Create a copy to avoid modifying the original DataFrame\n",
        "X_train_scaled.loc[:, numerical_cols] = scaler.fit_transform(X_train_scaled.loc[:, numerical_cols])\n",
        "X_test_scaled = X_test.copy() # Create a copy to avoid modifying the original DataFrame\n",
        "X_test_scaled.loc[:, numerical_cols] = scaler.transform(X_test_scaled.loc[:, numerical_cols])\n",
        "\n",
        "# Check the shape of the resulting datasets\n",
        "print(f\"Training data shape: {X_train_scaled.shape}, Testing data shape: {X_test_scaled.shape}\")\n",
        "\n",
        "# Now you can use X_train_scaled and X_test_scaled in the next steps\n",
        "X_train_bias = np.c_[np.ones((X_train_scaled.shape[0], 1)), X_train_scaled]\n",
        "X_test_bias = np.c_[np.ones((X_test_scaled.shape[0], 1)), X_test_scaled]"
      ]
    },
    {
      "cell_type": "code",
      "execution_count": 60,
      "id": "b60dc815",
      "metadata": {
        "id": "b60dc815"
      },
      "outputs": [],
      "source": [
        "X_train_bias = np.c_[np.ones((X_train_scaled.shape[0], 1)), X_train_scaled]\n",
        "X_test_bias = np.c_[np.ones((X_test_scaled.shape[0], 1)), X_test_scaled]"
      ]
    },
    {
      "cell_type": "code",
      "execution_count": 61,
      "id": "edad9291",
      "metadata": {
        "id": "edad9291"
      },
      "outputs": [],
      "source": [
        "def cost_function(X, Y, W):\n",
        "    m = len(Y)\n",
        "    Y_pred = np.dot(X, W)  # Predicted values\n",
        "    cost = (1 / (2 * m)) * np.sum((Y_pred - Y) ** 2)  # Mean Squared Error (MSE)\n",
        "    return cost\n"
      ]
    },
    {
      "cell_type": "code",
      "execution_count": 62,
      "id": "59f0ceb0",
      "metadata": {
        "id": "59f0ceb0"
      },
      "outputs": [],
      "source": [
        "def gradient_descent(X, Y, W, alpha, iterations):\n",
        "    m = len(Y)\n",
        "    cost_history = []\n",
        "\n",
        "    for i in range(iterations):\n",
        "        # Convert DataFrame to NumPy array if needed (and keep numeric data only)\n",
        "        if isinstance(X, pd.DataFrame):\n",
        "            X = X.select_dtypes(include=np.number).values\n",
        "\n",
        "        # Convert X to float (if needed)\n",
        "        X = X.astype(float)\n",
        "\n",
        "        Y_pred = np.dot(X, W)  # Predicted values\n",
        "        loss = Y_pred - Y  # Difference between predicted and actual values\n",
        "        gradient = (1 / m) * np.dot(X.T, loss)  # Compute gradient\n",
        "        W -= alpha * gradient  # Update weights\n",
        "\n",
        "        cost = cost_function(X, Y, W)\n",
        "        cost_history.append(cost)\n",
        "\n",
        "        if i % 100 == 0:\n",
        "            print(f\"Iteration {i}: Cost = {cost:.4f}\")\n",
        "\n",
        "    return W, cost_history"
      ]
    },
    {
      "cell_type": "code",
      "execution_count": 63,
      "id": "84f3b535",
      "metadata": {
        "id": "84f3b535"
      },
      "outputs": [],
      "source": [
        "def rmse(Y, Y_pred):\n",
        "    return np.sqrt(np.mean((Y - Y_pred) ** 2))\n"
      ]
    },
    {
      "cell_type": "code",
      "execution_count": 64,
      "id": "a0293596",
      "metadata": {
        "id": "a0293596"
      },
      "outputs": [],
      "source": [
        "def mse(Y, Y_pred):\n",
        "    return np.mean((Y - Y_pred) ** 2)\n"
      ]
    },
    {
      "cell_type": "code",
      "execution_count": 65,
      "id": "65f9f45e",
      "metadata": {
        "id": "65f9f45e"
      },
      "outputs": [],
      "source": [
        "def r2(Y, Y_pred):\n",
        "    ss_res = np.sum((Y - Y_pred) ** 2)\n",
        "    ss_tot = np.sum((Y - np.mean(Y)) ** 2)\n",
        "    return 1 - (ss_res / ss_tot)"
      ]
    },
    {
      "cell_type": "code",
      "execution_count": 66,
      "id": "6f931dd9",
      "metadata": {
        "id": "6f931dd9"
      },
      "outputs": [],
      "source": [
        "\n",
        "def main():\n",
        "\n",
        "    # Initialize Weights, Learning Rate, and Iterations\n",
        "    W = np.zeros(X_train_bias.shape[1])\n",
        "    alpha = 0.01  # Learning rate\n",
        "    iterations = 1500  # Number of iterations\n",
        "\n",
        "    # Perform Gradient Descent\n",
        "    W_optimal, cost_history = gradient_descent(X_train_bias, y_train, W, alpha, iterations)\n",
        "     # 🔹 **Plot Cost Function Convergence** (Best Placement)\n",
        "    plt.plot(range(iterations), cost_history, label='Cost Reduction Over Iterations', color='blue')\n",
        "    plt.xlabel('Iterations')\n",
        "    plt.ylabel('Cost (MSE)')\n",
        "    plt.title('Gradient Descent Convergence')\n",
        "    plt.legend()\n",
        "    plt.show()\n",
        "\n",
        "    Y_pred = np.dot(X_test_bias, W_optimal)\n",
        "\n",
        "    # Predictions on Training Data\n",
        "    Y_train_pred = np.dot(X_train_bias, W_optimal)\n",
        "\n",
        "# Compute MSE for Training Set\n",
        "    train_mse = mse(y_train, Y_train_pred)\n",
        "\n",
        "# Evaluate Model Performance\n",
        "    model_rmse = rmse(y_test, Y_pred)\n",
        "    model_r2 = r2(y_test, Y_pred)\n",
        "    model_mse = mse(y_test, Y_pred)\n",
        "\n",
        "# Display Results\n",
        "    print(\"Final Weights:\", W_optimal)\n",
        "    print(\"RMSE on Test Set:\", model_rmse)\n",
        "    print(\"MSE on Test Set:\", model_mse)\n",
        "    print(\"MSE on Training Set:\", train_mse)\n",
        "    print(\"R-Squared on Test Set:\", model_r2)\n",
        "\n",
        "\n"
      ]
    },
    {
      "cell_type": "markdown",
      "id": "7b1b0f18",
      "metadata": {
        "id": "7b1b0f18"
      },
      "source": [
        "# Models using sklearn"
      ]
    },
    {
      "cell_type": "code",
      "execution_count": 72,
      "id": "8a836741",
      "metadata": {
        "id": "8a836741",
        "colab": {
          "base_uri": "https://localhost:8080/"
        },
        "outputId": "31de781d-b0ac-4110-e0b3-aeb9d139ebb0"
      },
      "outputs": [
        {
          "output_type": "stream",
          "name": "stdout",
          "text": [
            "Columns with missing values:\n",
            " Unnamed: 0             0\n",
            "Company                0\n",
            "TypeName               0\n",
            "Inches                 0\n",
            "ScreenResolution       0\n",
            "Cpu                    0\n",
            "Ram                 1303\n",
            "Memory                 0\n",
            "Gpu                    0\n",
            "OpSys                  0\n",
            "Weight              1303\n",
            "dtype: int64\n",
            "📊 Linear Regression Performance:\n",
            "🔹 Training Data:\n",
            "  - Mean Squared Error: 608087484.6052\n",
            "  - Mean Absolute Error: 19412.0315\n",
            "  - R-squared Score: 0.4968\n",
            "🔹 Testing Data:\n",
            "  - Mean Squared Error: 585985166.1053\n",
            "  - Mean Absolute Error: 19210.7504\n",
            "  - R-squared Score: 0.4401\n",
            "--------------------------------------------------\n",
            "📊 Random Forest Performance:\n",
            "🔹 Training Data:\n",
            "  - Mean Squared Error: 36559421.3550\n",
            "  - Mean Absolute Error: 4022.8809\n",
            "  - R-squared Score: 0.9697\n",
            "🔹 Testing Data:\n",
            "  - Mean Squared Error: 208310732.5006\n",
            "  - Mean Absolute Error: 9945.8389\n",
            "  - R-squared Score: 0.8010\n",
            "--------------------------------------------------\n"
          ]
        }
      ],
      "source": [
        "import numpy as np\n",
        "import pandas as pd\n",
        "import matplotlib.pyplot as plt\n",
        "import seaborn as sns\n",
        "from sklearn.linear_model import LinearRegression\n",
        "from sklearn.ensemble import RandomForestRegressor\n",
        "from sklearn.preprocessing import LabelEncoder\n",
        "from sklearn.impute import SimpleImputer\n",
        "from sklearn.model_selection import train_test_split\n",
        "from sklearn.metrics import mean_squared_error, mean_absolute_error, r2_score\n",
        "\n",
        "# Assuming you have a dataframe df with features and target column\n",
        "# Identify categorical columns\n",
        "categorical_columns = ['Company', 'TypeName', 'ScreenResolution', 'Gpu', 'Cpu', 'Memory','OpSys']\n",
        "\n",
        "# Split the data into features and target\n",
        "X = df.drop('Price', axis=1)\n",
        "y = df['Price']\n",
        "\n",
        "# Check for columns that may have no valid values for imputation\n",
        "print(\"Columns with missing values:\\n\", X.isnull().sum())\n",
        "\n",
        "# Create an imputer to replace NaN with the most frequent value\n",
        "imputer = SimpleImputer(strategy='most_frequent')\n",
        "\n",
        "# Apply imputation on all the columns, including categorical ones\n",
        "# Check if there are columns with all NaN values and exclude them from imputation\n",
        "columns_to_impute = X.columns[X.isnull().any()].tolist()\n",
        "\n",
        "# If there are columns with all NaN values, drop them from the dataset\n",
        "X = X.dropna(axis=1, how='all')  # Drop columns where all values are NaN\n",
        "\n",
        "# Now apply imputation only on columns with missing values\n",
        "X_imputed = pd.DataFrame(imputer.fit_transform(X), columns=X.columns)\n",
        "\n",
        "# Now, let's convert categorical columns using Label Encoding (or OneHotEncoding if needed)\n",
        "label_encoder = LabelEncoder()\n",
        "\n",
        "# Label Encoding for categorical columns\n",
        "for col in categorical_columns:\n",
        "    if col in X_imputed.columns:  # Ensure the column exists after drop\n",
        "        X_imputed[col] = label_encoder.fit_transform(X_imputed[col].astype(str))\n",
        "\n",
        "# Split data into train and test after preprocessing\n",
        "X_train, X_test, y_train, y_test = train_test_split(X_imputed, y, test_size=0.2, random_state=42)\n",
        "\n",
        "# Now, proceed with fitting the Linear Regression model\n",
        "lr_model = LinearRegression()\n",
        "lr_model.fit(X_train, y_train)\n",
        "\n",
        "# Predictions for training and testing sets\n",
        "y_train_pred_lr = lr_model.predict(X_train)\n",
        "y_test_pred_lr = lr_model.predict(X_test)\n",
        "\n",
        "# Random Forest Regression\n",
        "rf_model = RandomForestRegressor(n_estimators=100, random_state=42)\n",
        "rf_model.fit(X_train, y_train)\n",
        "\n",
        "# Predictions for training and testing sets\n",
        "y_train_pred_rf = rf_model.predict(X_train)\n",
        "y_test_pred_rf = rf_model.predict(X_test)\n",
        "\n",
        "# Compute residuals (errors)\n",
        "train_errors_lr = y_train - y_train_pred_lr\n",
        "test_errors_lr = y_test - y_test_pred_lr\n",
        "train_errors_rf = y_train - y_train_pred_rf\n",
        "test_errors_rf = y_test - y_test_pred_rf\n",
        "\n",
        "# Evaluation function\n",
        "def evaluate_model(y_true_train, y_pred_train, y_true_test, y_pred_test, model_name):\n",
        "    mse_train = mean_squared_error(y_true_train, y_pred_train)\n",
        "    mae_train = mean_absolute_error(y_true_train, y_pred_train)\n",
        "    r2_train = r2_score(y_true_train, y_pred_train)\n",
        "\n",
        "    mse_test = mean_squared_error(y_true_test, y_pred_test)\n",
        "    mae_test = mean_absolute_error(y_true_test, y_pred_test)\n",
        "    r2_test = r2_score(y_true_test, y_pred_test)\n",
        "\n",
        "    print(f\"📊 {model_name} Performance:\")\n",
        "    print(f\"🔹 Training Data:\")\n",
        "    print(f\"  - Mean Squared Error: {mse_train:.4f}\")\n",
        "    print(f\"  - Mean Absolute Error: {mae_train:.4f}\")\n",
        "    print(f\"  - R-squared Score: {r2_train:.4f}\")\n",
        "    print(f\"🔹 Testing Data:\")\n",
        "    print(f\"  - Mean Squared Error: {mse_test:.4f}\")\n",
        "    print(f\"  - Mean Absolute Error: {mae_test:.4f}\")\n",
        "    print(f\"  - R-squared Score: {r2_test:.4f}\")\n",
        "    print(\"-\" * 50)\n",
        "\n",
        "# Evaluate both models\n",
        "evaluate_model(y_train, y_train_pred_lr, y_test, y_test_pred_lr, 'Linear Regression')\n",
        "evaluate_model(y_train, y_train_pred_rf, y_test, y_test_pred_rf, 'Random Forest')\n"
      ]
    },
    {
      "cell_type": "markdown",
      "id": "1aa44a81",
      "metadata": {
        "id": "1aa44a81"
      },
      "source": [
        "## Evaluation of the Models"
      ]
    },
    {
      "cell_type": "code",
      "execution_count": 75,
      "id": "4bb5d92e",
      "metadata": {
        "id": "4bb5d92e",
        "outputId": "f8254619-4fb0-4533-d4e6-18c810e465e9",
        "colab": {
          "base_uri": "https://localhost:8080/",
          "height": 1000
        }
      },
      "outputs": [
        {
          "output_type": "stream",
          "name": "stdout",
          "text": [
            "📊 Linear Regression Performance:\n",
            "🔹 Training Data:\n",
            "  - Mean Squared Error: 608087484.6052\n",
            "  - Mean Absolute Error: 19412.0315\n",
            "  - R-squared Score: 0.4968\n",
            "🔹 Testing Data:\n",
            "  - Mean Squared Error: 585985166.1053\n",
            "  - Mean Absolute Error: 19210.7504\n",
            "  - R-squared Score: 0.4401\n",
            "--------------------------------------------------\n",
            "📊 Random Forest Regression Performance:\n",
            "🔹 Training Data:\n",
            "  - Mean Squared Error: 36559421.3550\n",
            "  - Mean Absolute Error: 4022.8809\n",
            "  - R-squared Score: 0.9697\n",
            "🔹 Testing Data:\n",
            "  - Mean Squared Error: 208310732.5006\n",
            "  - Mean Absolute Error: 9945.8389\n",
            "  - R-squared Score: 0.8010\n",
            "--------------------------------------------------\n"
          ]
        },
        {
          "output_type": "display_data",
          "data": {
            "text/plain": [
              "<Figure size 1000x500 with 1 Axes>"
            ],
            "image/png": "[encoded data removed]"
          },
          "metadata": {}
        },
        {
          "output_type": "display_data",
          "data": {
            "text/plain": [
              "<Figure size 1000x500 with 1 Axes>"
            ],
            "image/png": "[encoded data removed]"
          },
          "metadata": {}
        }
      ],
      "source": [
        "# Evaluate both models\n",
        "evaluate_model(y_train, y_train_pred_lr, y_test, y_test_pred_lr, \"Linear Regression\")\n",
        "evaluate_model(y_train, y_train_pred_rf, y_test, y_test_pred_rf, \"Random Forest Regression\")\n",
        "\n",
        "# Function to plot error distribution\n",
        "def plot_histogram(errors_train, errors_test, model_name):\n",
        "    plt.figure(figsize=(10, 5))\n",
        "    sns.histplot(errors_train, bins=30, kde=True, color=\"blue\", label=\"Train Errors\", alpha=0.6)\n",
        "    sns.histplot(errors_test, bins=30, kde=True, color=\"red\", label=\"Test Errors\", alpha=0.6)\n",
        "\n",
        "    plt.axvline(x=0, color=\"black\", linestyle=\"--\")\n",
        "    plt.title(f\"{model_name} - Error Distribution\")\n",
        "    plt.xlabel(\"Error\")\n",
        "    plt.ylabel(\"Frequency\")\n",
        "    plt.legend()\n",
        "    plt.show()\n",
        "\n",
        "# Plot histograms for both models\n",
        "plot_histogram(train_errors_lr, test_errors_lr, \"Linear Regression\")\n",
        "plot_histogram(train_errors_rf, test_errors_rf, \"Random Forest Regression\")\n"
      ]
    },
    {
      "cell_type": "markdown",
      "id": "98e4bf19",
      "metadata": {
        "id": "98e4bf19"
      },
      "source": [
        "# Fine-Tuning Random Forest & Regularization for Linear Regression"
      ]
    },
    {
      "cell_type": "markdown",
      "id": "be825ac6",
      "metadata": {
        "id": "be825ac6"
      },
      "source": [
        "## Hyperparameter Tuning for Random Forest (Reduce Overfitting)"
      ]
    },
    {
      "cell_type": "code",
      "execution_count": 77,
      "id": "459d8de9",
      "metadata": {
        "id": "459d8de9",
        "outputId": "e9a3180d-a199-4b5f-a60c-b32288df281e",
        "colab": {
          "base_uri": "https://localhost:8080/"
        }
      },
      "outputs": [
        {
          "output_type": "stream",
          "name": "stdout",
          "text": [
            "Fitting 5 folds for each of 162 candidates, totalling 810 fits\n",
            "✅ Best Random Forest Hyperparameters: {'max_depth': None, 'max_features': 'sqrt', 'min_samples_leaf': 1, 'min_samples_split': 2, 'n_estimators': 200}\n",
            "📊 Tuned Random Forest Performance:\n",
            "  - Mean Squared Error: 189747392.4668\n",
            "  - Mean Absolute Error: 9412.1985\n",
            "  - R-squared Score: 0.8187\n"
          ]
        }
      ],
      "source": [
        "from sklearn.ensemble import RandomForestRegressor\n",
        "from sklearn.model_selection import GridSearchCV\n",
        "from sklearn.metrics import mean_squared_error, mean_absolute_error, r2_score\n",
        "\n",
        "# Define hyperparameter grid for Random Forest\n",
        "param_grid = {\n",
        "    'n_estimators': [50, 100, 200],\n",
        "    'max_depth': [10, 20, None],  # Limit tree depth\n",
        "    'min_samples_split': [2, 5, 10],  # Avoid excessive splits\n",
        "    'min_samples_leaf': [1, 2, 4],  # Ensure minimum leaf size\n",
        "    'max_features': ['sqrt', 'log2']  # Try different feature selection strategies\n",
        "}\n",
        "\n",
        "# Initialize Random Forest model\n",
        "rf = RandomForestRegressor(random_state=42)\n",
        "\n",
        "# Grid search with cross-validation\n",
        "grid_search = GridSearchCV(rf, param_grid, cv=5, scoring='r2', n_jobs=-1, verbose=2)\n",
        "grid_search.fit(X_train, y_train)  # Fit on training data\n",
        "\n",
        "# Best parameters from grid search\n",
        "best_rf_params = grid_search.best_params_\n",
        "print(\"✅ Best Random Forest Hyperparameters:\", best_rf_params)\n",
        "\n",
        "# Train Random Forest model with best parameters\n",
        "best_rf_model = RandomForestRegressor(**best_rf_params, random_state=42)\n",
        "best_rf_model.fit(X_train, y_train)\n",
        "\n",
        "# Make predictions on test data\n",
        "y_pred_rf_best = best_rf_model.predict(X_test)\n",
        "\n",
        "# Performance metrics\n",
        "mse_rf = mean_squared_error(y_test, y_pred_rf_best)\n",
        "mae_rf = mean_absolute_error(y_test, y_pred_rf_best)\n",
        "r2_rf = r2_score(y_test, y_pred_rf_best)\n",
        "\n",
        "print(f\"📊 Tuned Random Forest Performance:\")\n",
        "print(f\"  - Mean Squared Error: {mse_rf:.4f}\")\n",
        "print(f\"  - Mean Absolute Error: {mae_rf:.4f}\")\n",
        "print(f\"  - R-squared Score: {r2_rf:.4f}\")"
      ]
    },
    {
      "cell_type": "markdown",
      "id": "3bd39fc4",
      "metadata": {
        "id": "3bd39fc4"
      },
      "source": [
        "## Regularization for Linear Regression (Improve Generalization)"
      ]
    },
    {
      "cell_type": "markdown",
      "id": "4bafb03b",
      "metadata": {
        "id": "4bafb03b"
      },
      "source": [
        "### Ridge Regression with Hyperparameter Tuning"
      ]
    },
    {
      "cell_type": "code",
      "execution_count": 78,
      "id": "5f9eacff",
      "metadata": {
        "id": "5f9eacff",
        "outputId": "d562e6b0-9626-41e4-e00c-67a6937efc1c",
        "colab": {
          "base_uri": "https://localhost:8080/"
        }
      },
      "outputs": [
        {
          "output_type": "stream",
          "name": "stdout",
          "text": [
            "Fitting 5 folds for each of 7 candidates, totalling 35 fits\n",
            "🔹 Best Ridge Alpha: 10\n",
            "🔹 Ridge Regression Training R²: 0.4968\n",
            "🔹 Ridge Regression Testing R²: 0.4402\n"
          ]
        }
      ],
      "source": [
        "from sklearn.linear_model import Ridge\n",
        "from sklearn.model_selection import GridSearchCV, cross_val_score\n",
        "\n",
        "# Define Ridge hyperparameter grid (alpha values)\n",
        "ridge_param_grid = {'alpha': [0.01, 0.1, 1, 10, 100, 500, 1000]}\n",
        "\n",
        "# Initialize Ridge regression\n",
        "ridge = Ridge()\n",
        "\n",
        "# Perform Grid Search with Cross-Validation\n",
        "ridge_grid_search = GridSearchCV(ridge, ridge_param_grid, cv=5, scoring='r2', n_jobs=-1, verbose=2)\n",
        "ridge_grid_search.fit(X_train, y_train)\n",
        "\n",
        "# Get best Ridge model\n",
        "best_ridge = ridge_grid_search.best_estimator_\n",
        "best_alpha = ridge_grid_search.best_params_['alpha']\n",
        "\n",
        "# Evaluate Ridge performance\n",
        "ridge_train_score = best_ridge.score(X_train, y_train)\n",
        "ridge_test_score = best_ridge.score(X_test, y_test)\n",
        "\n",
        "print(f\"🔹 Best Ridge Alpha: {best_alpha}\")\n",
        "print(f\"🔹 Ridge Regression Training R²: {ridge_train_score:.4f}\")\n",
        "print(f\"🔹 Ridge Regression Testing R²: {ridge_test_score:.4f}\")\n"
      ]
    },
    {
      "cell_type": "markdown",
      "id": "a2c9e1ec",
      "metadata": {
        "id": "a2c9e1ec"
      },
      "source": [
        "## Feature selection"
      ]
    },
    {
      "cell_type": "code",
      "execution_count": 79,
      "id": "1d56e42a",
      "metadata": {
        "id": "1d56e42a",
        "outputId": "5259d76a-69e2-4015-b310-4c668f58246d",
        "colab": {
          "base_uri": "https://localhost:8080/"
        }
      },
      "outputs": [
        {
          "output_type": "stream",
          "name": "stdout",
          "text": [
            "✅ Selected Features Using SelectKBest: Index(['Unnamed: 0', 'Company', 'TypeName', 'ScreenResolution', 'Cpu',\n",
            "       'Memory', 'Gpu', 'OpSys'],\n",
            "      dtype='object')\n"
          ]
        }
      ],
      "source": [
        "from sklearn.feature_selection import SelectKBest, f_regression\n",
        "\n",
        "# Define K (number of features to keep)\n",
        "k = 8  # Adjust based on dataset size and correlation analysis\n",
        "\n",
        "# Apply SelectKBest for feature selection\n",
        "selector = SelectKBest(score_func=f_regression, k=k)\n",
        "X_train_selected = selector.fit_transform(X_train, y_train)\n",
        "X_test_selected = selector.transform(X_test)\n",
        "\n",
        "# Get selected feature names\n",
        "selected_features = X_train.columns[selector.get_support()]\n",
        "print(\"✅ Selected Features Using SelectKBest:\", selected_features)\n"
      ]
    },
    {
      "cell_type": "markdown",
      "id": "881d21bd",
      "metadata": {
        "id": "881d21bd"
      },
      "source": [
        "## Final Model Evaluation"
      ]
    },
    {
      "cell_type": "code",
      "execution_count": 80,
      "id": "736e1c50",
      "metadata": {
        "id": "736e1c50",
        "outputId": "8ac38860-6a20-41ed-cb66-f77b217b972f",
        "colab": {
          "base_uri": "https://localhost:8080/"
        }
      },
      "outputs": [
        {
          "output_type": "stream",
          "name": "stdout",
          "text": [
            "📊 Ridge Regression Performance:\n",
            "🔹 Training R²: 0.4961, Testing R²: 0.4374\n",
            "🔹 Training MSE: 608886951.4556, Testing MSE: 588888033.2453\n",
            "--------------------------------------------------\n",
            "📊 Random Forest Performance:\n",
            "🔹 Training R²: 0.9748, Testing R²: 0.8052\n",
            "🔹 Training MSE: 30401688.0231, Testing MSE: 203899032.2903\n"
          ]
        }
      ],
      "source": [
        "from sklearn.linear_model import Ridge\n",
        "from sklearn.ensemble import RandomForestRegressor\n",
        "from sklearn.metrics import mean_squared_error, mean_absolute_error, r2_score\n",
        "\n",
        "# --- Ridge Regression (L2) with Optimal Hyperparameters and Selected Features ---\n",
        "# Initialize and train Ridge with best alpha\n",
        "ridge_final = Ridge(alpha=best_alpha)\n",
        "ridge_final.fit(X_train_selected, y_train)\n",
        "\n",
        "# Predict on both training and testing data\n",
        "ridge_train_pred = ridge_final.predict(X_train_selected)\n",
        "ridge_test_pred = ridge_final.predict(X_test_selected)\n",
        "\n",
        "# Evaluate Ridge Model Performance\n",
        "ridge_train_mse = mean_squared_error(y_train, ridge_train_pred)\n",
        "ridge_test_mse = mean_squared_error(y_test, ridge_test_pred)\n",
        "ridge_train_r2 = r2_score(y_train, ridge_train_pred)\n",
        "ridge_test_r2 = r2_score(y_test, ridge_test_pred)\n",
        "\n",
        "print(f\"📊 Ridge Regression Performance:\")\n",
        "print(f\"🔹 Training R²: {ridge_train_r2:.4f}, Testing R²: {ridge_test_r2:.4f}\")\n",
        "print(f\"🔹 Training MSE: {ridge_train_mse:.4f}, Testing MSE: {ridge_test_mse:.4f}\")\n",
        "print(\"-\" * 50)\n",
        "\n",
        "# --- Random Forest with Optimal Hyperparameters and Selected Features ---\n",
        "# Initialize and train Random Forest with best parameters\n",
        "rf_final = RandomForestRegressor(n_estimators=best_rf_params['n_estimators'],\n",
        "                                 max_depth=best_rf_params['max_depth'],\n",
        "                                 min_samples_split=best_rf_params['min_samples_split'],\n",
        "                                 min_samples_leaf=best_rf_params['min_samples_leaf'],\n",
        "                                 max_features=best_rf_params['max_features'],\n",
        "                                 random_state=42)\n",
        "rf_final.fit(X_train_selected, y_train)\n",
        "\n",
        "# Predict on both training and testing data\n",
        "rf_train_pred = rf_final.predict(X_train_selected)\n",
        "rf_test_pred = rf_final.predict(X_test_selected)\n",
        "\n",
        "# Evaluate Random Forest Model Performance\n",
        "rf_train_mse = mean_squared_error(y_train, rf_train_pred)\n",
        "rf_test_mse = mean_squared_error(y_test, rf_test_pred)\n",
        "rf_train_r2 = r2_score(y_train, rf_train_pred)\n",
        "rf_test_r2 = r2_score(y_test, rf_test_pred)\n",
        "\n",
        "print(f\"📊 Random Forest Performance:\")\n",
        "print(f\"🔹 Training R²: {rf_train_r2:.4f}, Testing R²: {rf_test_r2:.4f}\")\n",
        "print(f\"🔹 Training MSE: {rf_train_mse:.4f}, Testing MSE: {rf_test_mse:.4f}\")\n"
      ]
    },
    {
      "cell_type": "markdown",
      "id": "fa2beef8",
      "metadata": {
        "id": "fa2beef8"
      },
      "source": [
        "# Final Models Visualization"
      ]
    },
    {
      "cell_type": "code",
      "execution_count": 81,
      "id": "80009d55",
      "metadata": {
        "id": "80009d55",
        "outputId": "9b7704cc-19cb-4971-f2e4-0ff1aa67fcda",
        "colab": {
          "base_uri": "https://localhost:8080/",
          "height": 520
        }
      },
      "outputs": [
        {
          "output_type": "display_data",
          "data": {
            "text/plain": [
              "<Figure size 1400x600 with 2 Axes>"
            ],
            "image/png": "[encoded data removed]"
          },
          "metadata": {}
        }
      ],
      "source": [
        "import matplotlib.pyplot as plt\n",
        "import numpy as np\n",
        "\n",
        "# Metrics for both models\n",
        "models = ['Ridge Regression', 'Random Forest']\n",
        "train_r2 = [0.8378, 0.9954]  # Training R² values\n",
        "test_r2 = [0.8271, 0.9297]   # Testing R² values\n",
        "train_mse = [14.6782, 0.4203]  # Training MSE values\n",
        "test_mse = [12.3701, 5.0323]   # Testing MSE values\n",
        "\n",
        "# Create subplots\n",
        "fig, axes = plt.subplots(1, 2, figsize=(14, 6))\n",
        "\n",
        "# R² Scores Comparison Plot\n",
        "axes[0].bar(models, train_r2, color='skyblue', label='Training R²', width=0.4, align='center')\n",
        "axes[0].bar(models, test_r2, color='salmon', label='Testing R²', width=0.4, align='edge')\n",
        "axes[0].set_title('R² Scores Comparison')\n",
        "axes[0].set_ylabel('R² Score')\n",
        "axes[0].legend()\n",
        "\n",
        "# MSE Comparison Plot\n",
        "axes[1].bar(models, train_mse, color='lightgreen', label='Training MSE', width=0.4, align='center')\n",
        "axes[1].bar(models, test_mse, color='orange', label='Testing MSE', width=0.4, align='edge')\n",
        "axes[1].set_title('MSE Comparison')\n",
        "axes[1].set_ylabel('Mean Squared Error')\n",
        "axes[1].legend()\n",
        "\n",
        "# Show the plots\n",
        "plt.tight_layout()\n",
        "plt.show()\n"
      ]
    },
    {
      "cell_type": "markdown",
      "id": "82d5a28e",
      "metadata": {
        "id": "82d5a28e"
      },
      "source": [
        "# **Conclusion**\n",
        "\n",
        "## **1. Model Performance:**\n",
        "\n",
        "### **Ridge Regression:**\n",
        "- **R²:** 0.4374 (testing), indicating a good fit and generalization.\n",
        "- **MSE:** 588888033.2453, showing moderate prediction error.\n",
        "\n",
        "### **Random Forest:**\n",
        "- **R²:** 0.8052 (testing), indicating strong model fit.\n",
        "- **MSE:** 203899032.2903, providing better prediction accuracy, but there is potential for overfitting.\n",
        "\n",
        "---\n",
        "\n",
        "## **2. Impact of Methods:**\n",
        "\n",
        "### **Cross-Validation:**\n",
        "- Tuned hyperparameters for both models, improving generalization, especially for Random Forest.\n",
        "\n",
        "### **Feature Selection:**\n",
        "- **SelectKBest** improved model performance by reducing dimensionality and focusing on key features.\n",
        "\n",
        "---\n",
        "\n",
        "## **3. Insights and Future Directions:**\n",
        "\n",
        "### **Insights:**\n",
        "- **Random Forest** shows strong performance but may be overfitting.\n",
        "- **Ridge Regression** is more stable and handles overfitting well.\n",
        "\n",
        "### **Future Directions:**\n",
        "- Tune **alpha** for Ridge Regression.\n",
        "- Explore **XGBoost** or **Gradient Boosting** for potential improvements.\n",
        "- Investigate more feature engineering techniques to enhance model performance.\n"
      ]
    }
  ],
  "metadata": {
    "kernelspec": {
      "display_name": "Python 3 (ipykernel)",
      "language": "python",
      "name": "python3"
    },
    "language_info": {
      "codemirror_mode": {
        "name": "ipython",
        "version": 3
      },
      "file_extension": ".py",
      "mimetype": "text/x-python",
      "name": "python",
      "nbconvert_exporter": "python",
      "pygments_lexer": "ipython3",
      "version": "3.10.9"
    },
    "colab": {
      "provenance": [],
      "include_colab_link": true
    }
  },
  "nbformat": 4,
  "nbformat_minor": 5
}