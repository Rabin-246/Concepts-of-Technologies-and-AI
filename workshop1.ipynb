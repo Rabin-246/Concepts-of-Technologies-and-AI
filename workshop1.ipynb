{
  "nbformat": 4,
  "nbformat_minor": 0,
  "metadata": {
    "colab": {
      "provenance": [],
      "authorship_tag": "ABX9TyN1U/hHBL1D5KJmj5ypuEyn",
      "include_colab_link": true
    },
    "kernelspec": {
      "name": "python3",
      "display_name": "Python 3"
    },
    "language_info": {
      "name": "python"
    }
  },
  "cells": [
    {
      "cell_type": "markdown",
      "metadata": {
        "id": "view-in-github",
        "colab_type": "text"
      },
      "source": [
        "<a href=\"https://colab.research.google.com/github/Rabin-246/Concepts-of-Technologies-and-AI/blob/main/workshop1.ipynb\" target=\"_parent\"><img src=\"https://colab.research.google.com/assets/colab-badge.svg\" alt=\"Open In Colab\"/></a>"
      ]
    },
    {
      "cell_type": "markdown",
      "source": [
        "# To do"
      ],
      "metadata": {
        "id": "AVFDoyX7VIZD"
      }
    },
    {
      "cell_type": "markdown",
      "source": [
        "## Task 1 :"
      ],
      "metadata": {
        "id": "NgTD257nVOTi"
      }
    },
    {
      "cell_type": "code",
      "source": [
        "import numpy as np\n",
        "\n",
        "a = np.empty((2,2))\n",
        "a\n"
      ],
      "metadata": {
        "colab": {
          "base_uri": "https://localhost:8080/"
        },
        "id": "lnh2Ed6dVNTw",
        "outputId": "6a02d356-2648-49da-c24c-5f7cb065def0"
      },
      "execution_count": null,
      "outputs": [
        {
          "output_type": "execute_result",
          "data": {
            "text/plain": [
              "array([[4.66807966e-310, 0.00000000e+000],\n",
              "       [            nan, 2.29175545e-312]])"
            ]
          },
          "metadata": {},
          "execution_count": 2
        }
      ]
    },
    {
      "cell_type": "code",
      "source": [
        "b = np.array([[1,2],[2,3],[4,5],[7,8]])\n",
        "b"
      ],
      "metadata": {
        "colab": {
          "base_uri": "https://localhost:8080/"
        },
        "id": "t_EhH1dsVxLQ",
        "outputId": "916edb86-6291-4cab-efee-26bc5167ef96"
      },
      "execution_count": null,
      "outputs": [
        {
          "output_type": "execute_result",
          "data": {
            "text/plain": [
              "array([[1, 2],\n",
              "       [2, 3],\n",
              "       [4, 5],\n",
              "       [7, 8]])"
            ]
          },
          "metadata": {},
          "execution_count": 45
        }
      ]
    },
    {
      "cell_type": "code",
      "source": [
        "import numpy as np\n",
        "c = np.array([[2,54,6,7], [2,5,8,6]])\n",
        "d = np.full(shape=(2,3), fill_value = 4)\n",
        "d\n"
      ],
      "metadata": {
        "colab": {
          "base_uri": "https://localhost:8080/"
        },
        "id": "vvwsEceRYRtL",
        "outputId": "9f94fe49-2b68-40ab-fb06-da8fc5721c6c"
      },
      "execution_count": null,
      "outputs": [
        {
          "output_type": "execute_result",
          "data": {
            "text/plain": [
              "array([[4, 4, 4],\n",
              "       [4, 4, 4]])"
            ]
          },
          "metadata": {},
          "execution_count": 7
        }
      ]
    },
    {
      "cell_type": "code",
      "source": [
        "given_array = np.array([1,2,3,4])\n",
        "new_array = np.zeros_like(given_array)\n",
        "new_array\n"
      ],
      "metadata": {
        "colab": {
          "base_uri": "https://localhost:8080/"
        },
        "id": "JOo6w_pScWMw",
        "outputId": "3aff6343-70df-41ae-c43a-0b39dc090f94"
      },
      "execution_count": null,
      "outputs": [
        {
          "output_type": "execute_result",
          "data": {
            "text/plain": [
              "array([0, 0, 0, 0])"
            ]
          },
          "metadata": {},
          "execution_count": 3
        }
      ]
    },
    {
      "cell_type": "code",
      "source": [
        "given_array = np.array([[1,2,3],[3,4,5]])\n",
        "new_array = np.ones_like(given_array)\n",
        "new_array"
      ],
      "metadata": {
        "colab": {
          "base_uri": "https://localhost:8080/"
        },
        "id": "DAcfgL6PeHIN",
        "outputId": "6d6975ba-9ebc-41a9-9f36-d46091de9804"
      },
      "execution_count": null,
      "outputs": [
        {
          "output_type": "execute_result",
          "data": {
            "text/plain": [
              "array([[1, 1, 1],\n",
              "       [1, 1, 1]])"
            ]
          },
          "metadata": {},
          "execution_count": 58
        }
      ]
    },
    {
      "cell_type": "code",
      "source": [
        "new_list = [1,2,3,4]\n",
        "c = np.array(new_list)\n",
        "c"
      ],
      "metadata": {
        "colab": {
          "base_uri": "https://localhost:8080/"
        },
        "id": "FRPEej5ue-k1",
        "outputId": "8dc70971-17fe-49b1-8485-2a1519d210ed"
      },
      "execution_count": null,
      "outputs": [
        {
          "output_type": "execute_result",
          "data": {
            "text/plain": [
              "array([1, 2, 3, 4])"
            ]
          },
          "metadata": {},
          "execution_count": 59
        }
      ]
    },
    {
      "cell_type": "markdown",
      "source": [
        "# Task 2 :"
      ],
      "metadata": {
        "id": "0pzStoq6ftkw"
      }
    },
    {
      "cell_type": "code",
      "source": [
        "\n",
        "new_array = np.arange(10,49,5, dtype=int)\n",
        "new_array"
      ],
      "metadata": {
        "colab": {
          "base_uri": "https://localhost:8080/"
        },
        "id": "7G0u7hEDfpYN",
        "outputId": "dd60d4c4-cf61-4704-8101-55261d222f8c"
      },
      "execution_count": null,
      "outputs": [
        {
          "output_type": "execute_result",
          "data": {
            "text/plain": [
              "array([10, 15, 20, 25, 30, 35, 40, 45])"
            ]
          },
          "metadata": {},
          "execution_count": 68
        }
      ]
    },
    {
      "cell_type": "code",
      "source": [
        "A = ([[1,2,3], [4,5,6]])\n",
        "new_matrix = np.reshape(A, (6,1))\n",
        "new_matrix"
      ],
      "metadata": {
        "colab": {
          "base_uri": "https://localhost:8080/"
        },
        "id": "djIjpvj4gpYx",
        "outputId": "af012d2f-8126-4d48-acd3-afc93cc76df2"
      },
      "execution_count": null,
      "outputs": [
        {
          "output_type": "execute_result",
          "data": {
            "text/plain": [
              "array([[1],\n",
              "       [2],\n",
              "       [3],\n",
              "       [4],\n",
              "       [5],\n",
              "       [6]])"
            ]
          },
          "metadata": {},
          "execution_count": 77
        }
      ]
    },
    {
      "cell_type": "code",
      "source": [
        "a = ([[1,2,3],[2,3,4],[6,3,4]])\n",
        "new_matrix = np.eye(3)\n",
        "new_matrix"
      ],
      "metadata": {
        "colab": {
          "base_uri": "https://localhost:8080/"
        },
        "id": "-RTmX7UcitZ3",
        "outputId": "7af82016-c87b-4ab5-a821-e964db643758"
      },
      "execution_count": null,
      "outputs": [
        {
          "output_type": "execute_result",
          "data": {
            "text/plain": [
              "array([[1., 0., 0.],\n",
              "       [0., 1., 0.],\n",
              "       [0., 0., 1.]])"
            ]
          },
          "metadata": {},
          "execution_count": 79
        }
      ]
    },
    {
      "cell_type": "code",
      "source": [
        "import numpy as np\n",
        "a = np.random.random(30,)\n",
        "a"
      ],
      "metadata": {
        "colab": {
          "base_uri": "https://localhost:8080/"
        },
        "id": "kS86HeAnliVv",
        "outputId": "b4f398bb-980d-4732-a96d-a608a47b4e7a"
      },
      "execution_count": null,
      "outputs": [
        {
          "output_type": "execute_result",
          "data": {
            "text/plain": [
              "array([0.92157873, 0.16485116, 0.471032  , 0.25880547, 0.46264141,\n",
              "       0.32326096, 0.68335626, 0.63682626, 0.95736243, 0.17023107,\n",
              "       0.56382566, 0.47564548, 0.59223552, 0.56760002, 0.23709884,\n",
              "       0.01195362, 0.42578648, 0.09842601, 0.21537499, 0.37008534,\n",
              "       0.97595155, 0.3878204 , 0.06220016, 0.16620788, 0.55326589,\n",
              "       0.28322096, 0.35305356, 0.42818212, 0.79648068, 0.79160587])"
            ]
          },
          "metadata": {},
          "execution_count": 102
        }
      ]
    },
    {
      "cell_type": "code",
      "source": [
        "import numpy as np\n",
        "arr = np.random.randint(100, size=(10,10))\n",
        "\n",
        "min_value = np.min(arr)\n",
        "max_value = np.max(arr)\n",
        "\n",
        "print(arr)\n",
        "print(min_value)\n",
        "print(max_value)"
      ],
      "metadata": {
        "id": "vmqFVxnrmAu1",
        "colab": {
          "base_uri": "https://localhost:8080/"
        },
        "outputId": "aae67f6e-23d4-4f6b-fb2f-48ec69e04500"
      },
      "execution_count": null,
      "outputs": [
        {
          "output_type": "stream",
          "name": "stdout",
          "text": [
            "[[57 15 99 24 89  6 93 44 37  0]\n",
            " [43 36 49 60 52 37  4 91 99 40]\n",
            " [99 36 48 50 26 97 65 19 68 67]\n",
            " [12 96 90 97 34 92 57 36 16 89]\n",
            " [42 22 57 38 99  2 35 70 90  6]\n",
            " [20 96 52 13 17 98 55 55 83 78]\n",
            " [31 32 89 11 31 40 72 63 53 81]\n",
            " [20 14  9 51  9 17 99 59  7 18]\n",
            " [62 46 81 10 18 50 37  4 82 49]\n",
            " [64 58 50 58 31 75 59 21 78 17]]\n",
            "0\n",
            "99\n"
          ]
        }
      ]
    },
    {
      "cell_type": "code",
      "source": [
        "arr = np.zeros(10);\n",
        "print(arr);\n",
        "arr[4] = 1;\n",
        "print(arr);"
      ],
      "metadata": {
        "colab": {
          "base_uri": "https://localhost:8080/"
        },
        "id": "INi8ffXllKos",
        "outputId": "121e575b-d197-4c88-a495-14db8df21263"
      },
      "execution_count": null,
      "outputs": [
        {
          "output_type": "stream",
          "name": "stdout",
          "text": [
            "[0. 0. 0. 0. 0. 0. 0. 0. 0. 0.]\n",
            "[0. 0. 0. 0. 1. 0. 0. 0. 0. 0.]\n"
          ]
        }
      ]
    },
    {
      "cell_type": "code",
      "source": [
        "arr = [1,2,0,0,4,0]\n",
        "print(arr)\n",
        "reversed_arr = arr[::-1]\n",
        "print(reversed_arr)"
      ],
      "metadata": {
        "colab": {
          "base_uri": "https://localhost:8080/"
        },
        "id": "reS6yMeaoH5B",
        "outputId": "56f24b5b-fb24-4fce-b0a3-a5ca112dece4"
      },
      "execution_count": null,
      "outputs": [
        {
          "output_type": "stream",
          "name": "stdout",
          "text": [
            "[1, 2, 0, 0, 4, 0]\n",
            "[0, 4, 0, 0, 2, 1]\n"
          ]
        }
      ]
    },
    {
      "cell_type": "code",
      "source": [
        "arr = np.zeros((3,4))\n",
        "arr[0, :] = 1  # Top border\n",
        "arr[-1, :] = 1  # Bottom border\n",
        "arr[:, 0] = 1  # Left border\n",
        "arr[:, -1] = 1  # Right border\n",
        "print(arr)"
      ],
      "metadata": {
        "colab": {
          "base_uri": "https://localhost:8080/"
        },
        "id": "Bta8elQeqc5p",
        "outputId": "367affec-cf55-4937-aab0-a35107eef5c0"
      },
      "execution_count": null,
      "outputs": [
        {
          "output_type": "stream",
          "name": "stdout",
          "text": [
            "[[1. 1. 1. 1.]\n",
            " [1. 0. 0. 1.]\n",
            " [1. 1. 1. 1.]]\n"
          ]
        }
      ]
    },
    {
      "cell_type": "code",
      "source": [
        "matrix = np.zeros((8,8))\n",
        "matrix[1::2, ::2] = 1  # Fill 1s in odd rows, even columns\n",
        "matrix[::2, 1::2] = 1  # Fill 1s in even rows, odd columns\n",
        "print(matrix)"
      ],
      "metadata": {
        "colab": {
          "base_uri": "https://localhost:8080/"
        },
        "id": "3dz_TU5sr-3p",
        "outputId": "235e4f94-1e85-4ef5-f035-7abcfa14907f"
      },
      "execution_count": null,
      "outputs": [
        {
          "output_type": "stream",
          "name": "stdout",
          "text": [
            "[[0. 1. 0. 1. 0. 1. 0. 1.]\n",
            " [1. 0. 1. 0. 1. 0. 1. 0.]\n",
            " [0. 1. 0. 1. 0. 1. 0. 1.]\n",
            " [1. 0. 1. 0. 1. 0. 1. 0.]\n",
            " [0. 1. 0. 1. 0. 1. 0. 1.]\n",
            " [1. 0. 1. 0. 1. 0. 1. 0.]\n",
            " [0. 1. 0. 1. 0. 1. 0. 1.]\n",
            " [1. 0. 1. 0. 1. 0. 1. 0.]]\n"
          ]
        }
      ]
    },
    {
      "cell_type": "markdown",
      "source": [
        "# Problem 3 :"
      ],
      "metadata": {
        "id": "stY8J-4XuiZD"
      }
    },
    {
      "cell_type": "markdown",
      "source": [
        " x = np.array([[1,2],[3,5]]) and y = np.array([[5,6],[7,8]]);\n",
        "\n",
        " v = np.array([9,10]) and w = np.array([11,12]);\n",
        "# 1. Add the two array."
      ],
      "metadata": {
        "id": "c5fiyxfEuopX"
      }
    },
    {
      "cell_type": "code",
      "source": [
        "x = np.array([[1,2],[3,5]]);\n",
        "y = np.array([[5,6],[7,8]]);\n",
        "concat_matrix = np.concatenate((x,y), axis=0);\n",
        "print(concat_matrix)"
      ],
      "metadata": {
        "colab": {
          "base_uri": "https://localhost:8080/"
        },
        "id": "FLGtdZtstuv1",
        "outputId": "81d95899-40e6-4e5e-a900-54fcc6150396"
      },
      "execution_count": null,
      "outputs": [
        {
          "output_type": "stream",
          "name": "stdout",
          "text": [
            "[[1 2]\n",
            " [3 5]\n",
            " [5 6]\n",
            " [7 8]]\n"
          ]
        }
      ]
    },
    {
      "cell_type": "code",
      "source": [
        "import numpy as np\n",
        "v = np.array([9,10])\n",
        "w = np.array([11,12]);\n",
        "subtracted_matrix = np.subtract(w,v)\n",
        "print(subtracted_matrix)"
      ],
      "metadata": {
        "id": "8cttZr9dws0X",
        "colab": {
          "base_uri": "https://localhost:8080/"
        },
        "outputId": "55d04778-3b6b-4d1d-e93a-6ac32186c451"
      },
      "execution_count": null,
      "outputs": [
        {
          "output_type": "stream",
          "name": "stdout",
          "text": [
            "[2 2]\n"
          ]
        }
      ]
    },
    {
      "cell_type": "code",
      "source": [
        "x = np.array([[1,2],[3,5]]);\n",
        "y = np.array([[5,6],[7,8]]);\n",
        "new_matrix = np.multiply(x,y);\n",
        "print(new_matrix)\n"
      ],
      "metadata": {
        "colab": {
          "base_uri": "https://localhost:8080/"
        },
        "id": "nAA_EwAAWXvN",
        "outputId": "104bf2a2-a1da-44c0-9322-2c5e0deea315"
      },
      "execution_count": null,
      "outputs": [
        {
          "output_type": "stream",
          "name": "stdout",
          "text": [
            "[[ 5 12]\n",
            " [21 40]]\n"
          ]
        }
      ]
    },
    {
      "cell_type": "code",
      "source": [
        "result_1 = np.dot(x,y)\n",
        "print(\"The dot product of matrix X and Y: \",result_1)\n",
        "result_2 = np.dot(v,w)\n",
        "print(\"The dot product of matrix V and W: \",result_2)\n",
        "result_3 = np.dot(x,v)\n",
        "print(\"The dot product of matrix X and V: \",result_3)"
      ],
      "metadata": {
        "colab": {
          "base_uri": "https://localhost:8080/"
        },
        "id": "S4k1qD3rYkOW",
        "outputId": "25c2df06-2d61-4462-ae6c-81325333604c"
      },
      "execution_count": null,
      "outputs": [
        {
          "output_type": "stream",
          "name": "stdout",
          "text": [
            "The dot product of matrix X and Y:  [[19 22]\n",
            " [50 58]]\n",
            "The dot product of matrix V and W:  219\n",
            "The dot product of matrix X and V:  [29 77]\n"
          ]
        }
      ]
    },
    {
      "cell_type": "code",
      "source": [
        "concat_along_row = np.concatenate([x,y], axis=1);\n",
        "print(\"concatenated matrix is : \", concat_along_row)\n",
        "\n",
        "# when we are using hstack or vstack we donot have to provide axis.\n",
        "concat_along_row = np.hstack([x,y]);\n",
        "print(\"Concatenate along horizontal or row using hstack: \",concat_along_row)\n",
        "\n",
        "concat_along_column = np.concatenate([v,w], axis=0);\n",
        "print(\"concatenated matrix is : \", concat_along_column)"
      ],
      "metadata": {
        "colab": {
          "base_uri": "https://localhost:8080/"
        },
        "id": "rQUB_Bv5ZTDX",
        "outputId": "6d028565-2abf-41d9-b38f-84f7102a9f2a"
      },
      "execution_count": null,
      "outputs": [
        {
          "output_type": "stream",
          "name": "stdout",
          "text": [
            "concatenated matrix is :  [[1 2 5 6]\n",
            " [3 5 7 8]]\n",
            "Concatenate along horizontal or row using hstack:  [[1 2 5 6]\n",
            " [3 5 7 8]]\n",
            "concatenated matrix is :  [ 9 10 11 12]\n"
          ]
        }
      ]
    },
    {
      "cell_type": "code",
      "source": [
        "new_arr = np.concatenate([x,v])\n",
        "print(new_arr)\n",
        "\n",
        "# To concanate, all the input arrays must have same number of dimensions but the array  at index 0 has 2 dimension(s) and the array at index 1 has 1 dimension(s).\n"
      ],
      "metadata": {
        "colab": {
          "base_uri": "https://localhost:8080/",
          "height": 164
        },
        "id": "wxSfPqxxalay",
        "outputId": "0a407256-5062-4700-e40e-f0f75027876a"
      },
      "execution_count": null,
      "outputs": [
        {
          "output_type": "error",
          "ename": "ValueError",
          "evalue": "all the input arrays must have same number of dimensions, but the array at index 0 has 2 dimension(s) and the array at index 1 has 1 dimension(s)",
          "traceback": [
            "\u001b[0;31m---------------------------------------------------------------------------\u001b[0m",
            "\u001b[0;31mValueError\u001b[0m                                Traceback (most recent call last)",
            "\u001b[0;32m<ipython-input-26-71b548ad8160>\u001b[0m in \u001b[0;36m<cell line: 1>\u001b[0;34m()\u001b[0m\n\u001b[0;32m----> 1\u001b[0;31m \u001b[0mnew_matrix\u001b[0m \u001b[0;34m=\u001b[0m \u001b[0mnp\u001b[0m\u001b[0;34m.\u001b[0m\u001b[0mconcatenate\u001b[0m\u001b[0;34m(\u001b[0m\u001b[0;34m[\u001b[0m\u001b[0mx\u001b[0m\u001b[0;34m,\u001b[0m\u001b[0mv\u001b[0m\u001b[0;34m]\u001b[0m\u001b[0;34m)\u001b[0m\u001b[0;34m\u001b[0m\u001b[0;34m\u001b[0m\u001b[0m\n\u001b[0m\u001b[1;32m      2\u001b[0m \u001b[0mprint\u001b[0m\u001b[0;34m(\u001b[0m\u001b[0mnew_matrix\u001b[0m\u001b[0;34m)\u001b[0m\u001b[0;34m\u001b[0m\u001b[0;34m\u001b[0m\u001b[0m\n",
            "\u001b[0;31mValueError\u001b[0m: all the input arrays must have same number of dimensions, but the array at index 0 has 2 dimension(s) and the array at index 1 has 1 dimension(s)"
          ]
        }
      ]
    },
    {
      "cell_type": "markdown",
      "source": [
        "# Task 4: Matrix Operations:"
      ],
      "metadata": {
        "id": "9ZcWg-tqe_VG"
      }
    },
    {
      "cell_type": "code",
      "source": [
        "A = np.array([[3,4],[7,8]]);\n",
        "B = np.array([[5,3],[2,1]]);\n",
        "\n",
        "inverse_matrix = np.linalg.inv(A)\n",
        "dot_product = np.matmul(A,inverse_matrix)\n",
        "print(dot_product)"
      ],
      "metadata": {
        "colab": {
          "base_uri": "https://localhost:8080/"
        },
        "id": "2aXxE9mpdd5N",
        "outputId": "f7230ac0-aff8-41d7-bd5e-a3a9a417d91a"
      },
      "execution_count": null,
      "outputs": [
        {
          "output_type": "stream",
          "name": "stdout",
          "text": [
            "[[1.00000000e+00 0.00000000e+00]\n",
            " [1.77635684e-15 1.00000000e+00]]\n"
          ]
        }
      ]
    },
    {
      "cell_type": "code",
      "source": [
        "first_product = np.matmul(A,B)\n",
        "print(first_product)\n",
        "second_product = np.matmul(B,A)\n",
        "print(second_product)"
      ],
      "metadata": {
        "colab": {
          "base_uri": "https://localhost:8080/"
        },
        "id": "ntY8_v6Xh4eU",
        "outputId": "2fa6885c-7ff3-4ae7-bed3-1a501d781f5a"
      },
      "execution_count": null,
      "outputs": [
        {
          "output_type": "stream",
          "name": "stdout",
          "text": [
            "[[23 13]\n",
            " [51 29]]\n",
            "[[36 44]\n",
            " [13 16]]\n"
          ]
        }
      ]
    },
    {
      "cell_type": "code",
      "source": [
        "product_1 = np.matmul(A,B)\n",
        "AB_transpose = np.transpose(product_1)\n",
        "print(AB_transpose)\n",
        "\n",
        "B_transpose = np.transpose(B);\n",
        "A_transpose = np.transpose(A)\n",
        "\n",
        "B_transpose_multi_A_transpose = np.matmul(B_transpose,A_transpose)\n",
        "print(B_transpose_multi_A_transpose)\n"
      ],
      "metadata": {
        "colab": {
          "base_uri": "https://localhost:8080/"
        },
        "id": "Ug8pwhFUjHW3",
        "outputId": "02dd02b3-c749-409a-897f-d730779a87fc"
      },
      "execution_count": null,
      "outputs": [
        {
          "output_type": "stream",
          "name": "stdout",
          "text": [
            "[[23 51]\n",
            " [13 29]]\n",
            "[[23 51]\n",
            " [13 29]]\n"
          ]
        }
      ]
    },
    {
      "cell_type": "markdown",
      "source": [
        "# Solve the following system of Linear equation using Inverse Methods.\n",
        " 2x −3y+z =−1\n",
        "\n",
        " x −y+2z =−3\n",
        "\n",
        " 3x +y−z =9"
      ],
      "metadata": {
        "id": "GrmHQlvVmDzR"
      }
    },
    {
      "cell_type": "code",
      "source": [
        "F = np.array([[2,-3,1],[1,-1,2],[3,1,-1]])\n",
        "G = np.array([[-1],[-3],[9]])\n",
        "\n",
        "inverse_matrix_of_F = np.linalg.inv(F)\n",
        "\n",
        "solution = np.dot(inverse_matrix_of_F,G)\n",
        "\n",
        "print(inverse_matrix_of_F)\n",
        "print(\"\\nSolution (x, y, z):\")\n",
        "print(solution)\n"
      ],
      "metadata": {
        "colab": {
          "base_uri": "https://localhost:8080/"
        },
        "id": "BxmZ53Bnk8KL",
        "outputId": "24e37d90-1e9e-418c-bbaa-5189b1d17c91"
      },
      "execution_count": null,
      "outputs": [
        {
          "output_type": "stream",
          "name": "stdout",
          "text": [
            "[[ 0.05263158  0.10526316  0.26315789]\n",
            " [-0.36842105  0.26315789  0.15789474]\n",
            " [-0.21052632  0.57894737 -0.05263158]]\n",
            "\n",
            "Solution (x, y, z):\n",
            "[[ 2.]\n",
            " [ 1.]\n",
            " [-2.]]\n"
          ]
        }
      ]
    },
    {
      "cell_type": "code",
      "source": [],
      "metadata": {
        "id": "pWbkiQ-fpdse"
      },
      "execution_count": null,
      "outputs": []
    }
  ]
}